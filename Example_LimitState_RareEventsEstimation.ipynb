{
 "cells": [
  {
   "cell_type": "code",
   "execution_count": 2,
   "metadata": {},
   "outputs": [],
   "source": [
    "import numpy as np\n",
    "import scipy as sp\n",
    "import matplotlib.pyplot as plt\n",
    "from ERANataf import ERANataf\n",
    "from ERADist import ERADist\n"
   ]
  },
  {
   "cell_type": "markdown",
   "metadata": {},
   "source": [
    "# Problem description\n",
    "    ## Problem\n",
    "    ### Input: Capacity R~ Lognormal(mu_R=10,sigma_R=1.5),load S~Gumbel(mu_S = 5,sigma_S = 2)\n",
    "    ### Model limit state function g(R,S) = R -S \n",
    "    ### Quantity of interest: Q = Pr(g(R,S)<0\n",
    "    \n",
    "    ## Method\n",
    "    ### The Q_exact = 0.0331 (using the FORM can get the value analytically)\n",
    "    ### Try to use Monte Carlo Simulation( MCS ), Markov Chain Monte Carlo method(MCMC), the First Order Reliability method(FORM), the Important sampling method, the Cross-Entropy method(CE), the subset simulation (SuS) and the improved cross entropy method(iCE) to estimate the rare events probability and evaluate the quality of the esiimator and compare the method\n"
   ]
  },
  {
   "cell_type": "code",
   "execution_count": 2,
   "metadata": {},
   "outputs": [],
   "source": [
    "## Parameter definition\n",
    "mu_R = 10; sigma_R= 1.5\n",
    "mu_S = 5; sigma_S = 2\n",
    "R_pdf = ERADist(\"Lognormal\",\"MOM\",[mu_R, sigma_R])\n",
    "S_pdf = ERADist(\"Gumbel\",\"MOM\",[mu_S,sigma_S])\n",
    "# target distribution\n",
    "f = lambda x: R_pdf.pdf(x[:,0])*S_pdf.pdf(x[:,1])\n",
    "# Performance function\n",
    "# g = lambda R,S: R-S\n",
    "g = lambda x: x[:,0]-x[:,1] # x has the size Nxdim\n",
    "# Threshold \n",
    "gamma = 0\n",
    "Q_exact = 0.0331\n",
    "dim = 2\n",
    "np.random.seed(1)# For reproducibility"
   ]
  },
  {
   "cell_type": "markdown",
   "metadata": {},
   "source": [
    "## Crude Monte Carlo Simulation(MCS)"
   ]
  },
  {
   "cell_type": "code",
   "execution_count": 3,
   "metadata": {},
   "outputs": [
    {
     "data": {
      "text/plain": [
       "0.03"
      ]
     },
     "execution_count": 3,
     "metadata": {},
     "output_type": "execute_result"
    }
   ],
   "source": [
    "## Monte Carlo Simulation \n",
    "N_MC = 1000\n",
    "# Sample generation\n",
    "x_MC = np.transpose([R_pdf.random(N_MC),S_pdf.random(N_MC)])\n",
    "# Performance function\n",
    "#g_MC = g(r_MC,s_MC)\n",
    "g_MC = g(x_MC)\n",
    "# Estimation of Q_MC \n",
    "Q_MC = sum(g_MC<=gamma)/N_MC\n",
    "# Evaluation of Q_MC coefficient of variation delta\n",
    "CV_MC = np.sqrt((1-Q_MC)/(Q_MC*N_MC))\n",
    "Q_MC"
   ]
  },
  {
   "cell_type": "code",
   "execution_count": 4,
   "metadata": {},
   "outputs": [
    {
     "data": {
      "text/plain": [
       "(1000, 2)"
      ]
     },
     "execution_count": 4,
     "metadata": {},
     "output_type": "execute_result"
    }
   ],
   "source": [
    "x_MC.shape"
   ]
  },
  {
   "cell_type": "markdown",
   "metadata": {},
   "source": [
    "## Markov Chain Monte Carlo method MCMC\n"
   ]
  },
  {
   "cell_type": "code",
   "execution_count": 5,
   "metadata": {},
   "outputs": [
    {
     "data": {
      "text/plain": [
       "0.0246"
      ]
     },
     "execution_count": 5,
     "metadata": {},
     "output_type": "execute_result"
    }
   ],
   "source": [
    "## Markov Chain Monte Carlo simulation using the random walk sampler Metropolis-Hastings algorithm (M-H algorithm)\n",
    "\n",
    "N_MCMC = 10000\n",
    "# Sample generation\n",
    "sp = [mu_R, mu_S]\n",
    "sigma = 2.4\n",
    "x = np.zeros((N_MCMC,2))\n",
    "x[0,:] = sp\n",
    "# generate z ~ N(0,sigma)\n",
    "Sigma = np.eye(2)*sigma;\n",
    "z = np.random.multivariate_normal([0,0],Sigma,N_MCMC)\n",
    "# Uniform sample\n",
    "u = np.random.uniform(0,1,N_MCMC)\n",
    "for i in range(N_MCMC-1):\n",
    "    # generate candidate\n",
    "    y = x[i,:] + z[i,:]\n",
    "    # evaluate the acceptance probability\n",
    "    f_y = R_pdf.pdf(y[0])*S_pdf.pdf(y[1])\n",
    "    f_x = R_pdf.pdf(x[i,0])*S_pdf.pdf(x[i,1])\n",
    "    alpha = min(1,f_y/f_x)\n",
    "    # check if sample should be accepted\n",
    "    if u[i] <= alpha:\n",
    "        x[i+1,:] = y\n",
    "    else:\n",
    "        x[i+1,:] = x[i,:]\n",
    "# The performance of the samples\n",
    "g_MCMC = x[:,0]-x[:,1]\n",
    "I_MCMC = g_MCMC < gamma\n",
    "Q_MCMC = sum(I_MCMC)/len(g_MCMC)\n",
    "Q_MCMC\n",
    "# nlags = 50\n",
    "#acf = np.correlate(I_MCMC,I_MCMC,mode='full')\n",
    "#delta = 2*sum(1)\n",
    "#CV_MCMC = np.var(I_MCMC)/N_MCMC*(1+delta)           \n",
    "## Comment MCMC needs more samples to reach the same level of accuracy as the MCS\n",
    "    \n",
    "    "
   ]
  },
  {
   "cell_type": "markdown",
   "metadata": {},
   "source": [
    "## First order reliability method FORM\n"
   ]
  },
  {
   "cell_type": "code",
   "execution_count": 6,
   "metadata": {},
   "outputs": [
    {
     "data": {
      "text/plain": [
       "0.03314473756635762"
      ]
     },
     "execution_count": 6,
     "metadata": {},
     "output_type": "execute_result"
    }
   ],
   "source": [
    "## First Order reliability method (FORM) \n",
    "# First transform to the standard uniform space\n",
    "# Distribution object\n",
    "M = [ERADist(\"Lognormal\",\"MOM\",[mu_R, sigma_R]),ERADist(\"Gumbel\",\"MOM\",[mu_S,sigma_S])]\n",
    "Rho = np.identity(dim)\n",
    "# Apply the Nataf transformation\n",
    "T_Nataf = ERANataf(M,Rho)\n",
    "# N_FORM\n",
    "# Performance function in Physical space g = R-S\n",
    "g = lambda x: x[:,0]-x[:,1] # x: Nxdim\n",
    "#g = lambda x: x[1,:]-x[0,:]\n",
    "# Performance function in transformed space G = g\n",
    "# Gradient in physical space dg/dR=1 dg/dS=-1 dg = [] \n",
    "dg = lambda x: [1,-1]\n",
    "#dg = lambda x: [-1,1]\n",
    "# Gradient in transformed space dG = dg/det(Jac)\n",
    "# Design point in the transformed domain\n",
    "u0 = [0,0];\n",
    "# Maximum number of steps\n",
    "maxi = 100;\n",
    "u = np.zeros((dim,maxi))\n",
    "u[:,0]=u0\n",
    "for i in range(maxi):\n",
    "    [x_i,Jac] = T_Nataf.U2X(u[:,i].reshape(2,1),Jacobian=True)\n",
    "    g_i = g(np.transpose(x_i))\n",
    "    G_i = g_i\n",
    "    dg_i = dg(x_i)\n",
    "    dG_i = np.dot(dg_i,np.linalg.inv(Jac))\n",
    "    d_i = 1/np.power(np.linalg.norm(dG_i),2)*(np.dot(dG_i,u[:,i])-G_i)*np.transpose(dG_i)-u[:,i]\n",
    "    u[:,i+1] = u[:,i]+d_i\n",
    "    if np.linalg.norm(d_i)<1.e-5:\n",
    "        ustar = u[:,i]\n",
    "        break\n",
    "beta = np.linalg.norm(ustar)\n",
    "import scipy as sp\n",
    "Q_FORM = sp.stats.norm.cdf(-beta)\n",
    "-beta\n",
    "Q_FORM # analytical solution"
   ]
  },
  {
   "cell_type": "markdown",
   "metadata": {},
   "source": [
    "## Importance sampling method\n",
    "    # IS density is predefined\n",
    "    # IS density based on the result of the FORM (the design point ustar in the transfromed space) h(u) = phi(u-ustar), mean is ustar Cov is identity matrix\n",
    "    # IS density is found by the Variance minimisation method\n",
    "    \n",
    "    # IS density is found by the CE method (analytical closed form is available for the exponential parametric family)\n",
    "        # IS density is found by IS-MCS\n",
    "        # IS denstiy is found by IS-IS\n",
    "            # Self version           \n",
    "            # Full version\n",
    "    # IS density is found by the improved CE method\n",
    "            \n",
    "          \n",
    "        "
   ]
  },
  {
   "cell_type": "markdown",
   "metadata": {},
   "source": [
    "## Importance sampling method\n",
    "    # IS density is predefined"
   ]
  },
  {
   "cell_type": "code",
   "execution_count": 7,
   "metadata": {},
   "outputs": [
    {
     "data": {
      "text/plain": [
       "0.0002358016902179167"
      ]
     },
     "execution_count": 7,
     "metadata": {},
     "output_type": "execute_result"
    }
   ],
   "source": [
    "## Importance sampling method (Choose the IS density through the cross entropy method)\n",
    "# IS density using the cross entropy method\n",
    "# number of samples per level\n",
    "N_CE = 1000\n",
    "# Quantile value to select samples for parameter update\n",
    "p = 0.3\n",
    "# limit state function in physical space\n",
    "g = lambda x: x[:,0]-x[:,1] # x has the size Nxdim\n",
    "# distribution Nataf object or marginal distribution of the input variables in physical space\n",
    "M = [ERADist(\"Lognormal\",\"MOM\",[mu_R, sigma_R]),ERADist(\"Gumbel\",\"MOM\",[mu_S,sigma_S])]\n",
    "Rho = np.identity(dim)\n",
    "# Apply the Nataf transformation\n",
    "T_Nataf = ERANataf(M,Rho)\n",
    "dim = len(T_Nataf.Marginals)\n",
    "u2x = lambda u: T_Nataf.U2X(u)\n",
    "# Limist state function in standard space\n",
    "G_LSF = lambda u: g(u2x(u))\n",
    "# Initialization of variables and storage\n",
    "j = 0 # initial level\n",
    "maxT = 50 # estimated number of iterations\n",
    "N_tot = 0 # total number of samples\n",
    "mu_X = [mu_R, mu_S]\n",
    "Cov_X = [[np.power(sigma_R,2), 0], [0, np.power(sigma_S,2)]]\n",
    "for t in range(maxT):\n",
    "    # Generate samples from the current IS density\n",
    "    x_CE = sp.stats.multivariate_normal.rvs(mean=mu_X,cov = Cov_X,size=N_CE)\n",
    "    # Evaluate the responses\n",
    "    g_CE = g(x_CE)\n",
    "    # Sort the responses\n",
    "    g_CE_sort = np.sort(g_CE)\n",
    "    # Estimate gamma_t\n",
    "    gamma_t = max(g_CE_sort[int((1-p)*N_CE)],gamma)\n",
    "    # Solve the CE optimization problem using the MCS or IS method\n",
    "    # If we use MCS method we will not need additional weights\n",
    "\n",
    "    # update parameters\n",
    "    I_CE = g_CE< gamma_t\n",
    "    mu_X = sum((I_CE).reshape(1000,1)*x_CE)/sum(I_CE)\n",
    "    Xtmp = I_CE.reshape(1000,1)*x_CE-mu_X\n",
    "    Xo = (Xtmp)*np.transpose(np.tile(np.sqrt(I_CE),(dim,1)))\n",
    "    Cov_X = np.dot(np.transpose(Xo),Xo)/sum(I_CE)+1e-6*np.identity(dim)\n",
    "    \n",
    "    # If we use IS method we need additional weights  \n",
    "    \n",
    "    # Check if the final level is reached\n",
    "    if gamma_t == gamma:\n",
    "        break\n",
    "# Generate samples from the final distribution\n",
    "N_final = 1000\n",
    "x_CE = sp.stats.multivariate_normal.rvs(mean=mu_X,cov = Cov_X,size=N_final)\n",
    "# Evaluate the performance \n",
    "g_CE = g(x_CE)\n",
    "# Evaluate the weight\n",
    "f_CE = f(x_CE)\n",
    "h_CE = sp.stats.multivariate_normal.pdf(x_CE,mu_X,Cov_X)\n",
    "w_CE = f_CE/h_CE\n",
    "# Evaluate the Pr\n",
    "Q_CE1 = sum(I_CE*w_CE)/N_final\n",
    "# Quality of the estimator\n",
    "Var_CE1 = np.var(I_CE*w_CE)/N_final\n",
    "CV_CE1 = np.sqrt(Var_CE1)/Q_CE1\n",
    "Q_CE1\n"
   ]
  },
  {
   "cell_type": "markdown",
   "metadata": {},
   "source": [
    "## Importance sampling method\n",
    "    # IS density based on the result of the FORM (the design point ustar in the transfromed space) h(u) = phi(u-ustar), mean is ustar Cov is identity matrix"
   ]
  },
  {
   "cell_type": "code",
   "execution_count": 8,
   "metadata": {
    "scrolled": true
   },
   "outputs": [
    {
     "data": {
      "text/plain": [
       "0.00798079729701033"
      ]
     },
     "execution_count": 8,
     "metadata": {},
     "output_type": "execute_result"
    }
   ],
   "source": [
    "## Importance sampling method (Choose the IS density centered at the design point)\n",
    "N_IS = 1000\n",
    "# IS density\n",
    "# In the transformed space h(u) = multivariate normal distribution(u-ustar)\n",
    "mu_u = ustar\n",
    "Cov_u = np.identity(dim)\n",
    "#mu_u = [9,9]\n",
    "#Cov_u = 2*np.identity(dim)\n",
    "h = lambda u: sp.stats.multivariate_normal.pdf(u,mean=mu_u,cov = Cov_u)\n",
    "# Generate samples from IS density h\n",
    "u_IS =  sp.stats.multivariate_normal.rvs(mean=mu_u,cov = Cov_u,size=N_IS)\n",
    "x_IS =  T_Nataf.U2X(u_IS.reshape(2,1000)).reshape(N_IS,dim)\n",
    "w_IS = f(x_IS)/h(u_IS)\n",
    "# Evaluate the performance function\n",
    "g_IS = g(x_IS)\n",
    "# Estimate the Pr(P<0)\n",
    "I_IS = g_IS < gamma\n",
    "Q_IS = sum(I_IS*w_IS)/N_IS\n",
    "Q_IS"
   ]
  },
  {
   "cell_type": "markdown",
   "metadata": {},
   "source": [
    "## Importance sampling method\n",
    "    # IS density is found by the Variance minimisation method"
   ]
  },
  {
   "cell_type": "code",
   "execution_count": 9,
   "metadata": {},
   "outputs": [],
   "source": [
    "## Importance sampling method (Choose the IS density through the variance minimisation method)"
   ]
  },
  {
   "cell_type": "markdown",
   "metadata": {},
   "source": [
    "## Importance sampling method   \n",
    "    # IS density is found by the CE method (analytical closed form is available for the exponential parametric family)\n",
    "        # IS density is found by IS-MCS\n",
    "      \n"
   ]
  },
  {
   "cell_type": "code",
   "execution_count": 10,
   "metadata": {},
   "outputs": [
    {
     "data": {
      "text/plain": [
       "0.0002362279646701927"
      ]
     },
     "execution_count": 10,
     "metadata": {},
     "output_type": "execute_result"
    }
   ],
   "source": [
    "## Importance sampling method (Choose the IS density through the cross entropy method)\n",
    "# IS density using the cross entropy method\n",
    "# number of samples per level\n",
    "N_CE = 1000\n",
    "# Quantile value to select samples for parameter update\n",
    "p = 0.3\n",
    "# limit state function in physical space\n",
    "g = lambda x: x[:,0]-x[:,1] # x has the size Nxdim\n",
    "# distribution Nataf object or marginal distribution of the input variables in physical space\n",
    "M = [ERADist(\"Lognormal\",\"MOM\",[mu_R, sigma_R]),ERADist(\"Gumbel\",\"MOM\",[mu_S,sigma_S])]\n",
    "Rho = np.identity(dim)\n",
    "# Apply the Nataf transformation\n",
    "T_Nataf = ERANataf(M,Rho)\n",
    "dim = len(T_Nataf.Marginals)\n",
    "u2x = lambda u: T_Nataf.U2X(u)\n",
    "# Limist state function in standard space\n",
    "G_LSF = lambda u: g(u2x(u))\n",
    "# Initialization of variables and storage\n",
    "j = 0 # initial level\n",
    "maxT = 50 # estimated number of iterations\n",
    "N_tot = 0 # total number of samples\n",
    "mu_X = [mu_R, mu_S]\n",
    "Cov_X = [[np.power(sigma_R,2), 0], [0, np.power(sigma_S,2)]]\n",
    "for t in range(maxT):\n",
    "    # Generate samples from the current IS density\n",
    "    x_CE = sp.stats.multivariate_normal.rvs(mean=mu_X,cov = Cov_X,size=N_CE)\n",
    "    # Evaluate the responses\n",
    "    g_CE = g(x_CE)\n",
    "    # Sort the responses\n",
    "    g_CE_sort = np.sort(g_CE)\n",
    "    # Estimate gamma_t\n",
    "    gamma_t = max(g_CE_sort[int((1-p)*N_CE)],gamma)\n",
    "    # Solve the CE optimization problem using the MCS or IS method\n",
    "    # If we use MCS method we will not need additional weights\n",
    "\n",
    "    # update parameters\n",
    "    I_CE = g_CE< gamma_t\n",
    "    mu_X = sum((I_CE).reshape(1000,1)*x_CE)/sum(I_CE)\n",
    "    Xtmp = I_CE.reshape(1000,1)*x_CE-mu_X\n",
    "    Xo = (Xtmp)*np.transpose(np.tile(np.sqrt(I_CE),(dim,1)))\n",
    "    Cov_X = np.dot(np.transpose(Xo),Xo)/sum(I_CE)+1e-6*np.identity(dim)\n",
    "    \n",
    "    # If we use IS method we need additional weights  \n",
    "    \n",
    "    # Check if the final level is reached\n",
    "    if gamma_t == gamma:\n",
    "        break\n",
    "# Generate samples from the final distribution\n",
    "N_final = 1000\n",
    "x_CE = sp.stats.multivariate_normal.rvs(mean=mu_X,cov = Cov_X,size=N_final)\n",
    "# Evaluate the performance \n",
    "g_CE = g(x_CE)\n",
    "# Evaluate the weight\n",
    "f_CE = f(x_CE)\n",
    "h_CE = sp.stats.multivariate_normal.pdf(x_CE,mu_X,Cov_X)\n",
    "w_CE = f_CE/h_CE\n",
    "# Evaluate the Pr\n",
    "Q_CE1 = sum(I_CE*w_CE)/N_final\n",
    "# Quality of the estimator\n",
    "Var_CE1 = np.var(I_CE*w_CE)/N_final\n",
    "CV_CE1 = np.sqrt(Var_CE1)/Q_CE1\n",
    "Q_CE1\n"
   ]
  },
  {
   "cell_type": "markdown",
   "metadata": {},
   "source": [
    "## Importance sampling method   \n",
    "    # IS density is found by the CE method (analytical closed form is available for the exponential parametric family)\n",
    "        # IS denstiy is found by IS-IS\n",
    "            # Self version\n",
    "            "
   ]
  },
  {
   "cell_type": "code",
   "execution_count": 11,
   "metadata": {},
   "outputs": [
    {
     "data": {
      "text/plain": [
       "0.033745680792705283"
      ]
     },
     "execution_count": 11,
     "metadata": {},
     "output_type": "execute_result"
    }
   ],
   "source": [
    "## Importance sampling method (Choose the IS density through the cross entropy method)\n",
    "# IS density using the cross entropy method\n",
    "# number of samples per level\n",
    "N_CE = 1000\n",
    "# Quantile value to select samples for parameter update\n",
    "p = 0.3\n",
    "# limit state function in physical space\n",
    "g = lambda x: x[:,0]-x[:,1] # x has the size Nxdim\n",
    "# distribution Nataf object or marginal distribution of the input variables in physical space\n",
    "M = [ERADist(\"Lognormal\",\"MOM\",[mu_R, sigma_R]),ERADist(\"Gumbel\",\"MOM\",[mu_S,sigma_S])]\n",
    "Rho = np.identity(dim)\n",
    "# Apply the Nataf transformation\n",
    "T_Nataf = ERANataf(M,Rho)\n",
    "dim = len(T_Nataf.Marginals)\n",
    "u2x = lambda u: T_Nataf.U2X(u)\n",
    "# Limist state function in standard space\n",
    "G_LSF = lambda u: g(u2x(u))\n",
    "# Initialization of variables and storage\n",
    "j = 0 # initial level\n",
    "maxT = 50 # estimated number of iterations\n",
    "N_tot = 0 # total number of samples\n",
    "mu_X = [mu_R, mu_S]\n",
    "Cov_X = [[np.power(sigma_R,2), 0], [0, np.power(sigma_S,2)]]\n",
    "for t in range(maxT):\n",
    "    # Generate samples from the current IS density\n",
    "    x_CE = sp.stats.multivariate_normal.rvs(mean=mu_X,cov = Cov_X,size=N_CE)\n",
    "    # Evaluate the responses\n",
    "    g_CE = g(x_CE)\n",
    "    N_tot += N_CE\n",
    "    # Sort the responses\n",
    "    g_CE_sort = np.sort(g_CE)\n",
    "    # Estimate gamma_t\n",
    "    gamma_t = max(g_CE_sort[int(p*N_CE)],gamma)\n",
    "    # Solve the CE optimization problem using the MCS or IS method\n",
    "    # If we use MCS method we will not need additional weights\n",
    "    # If we use IS method we need additional weights w_IS_IS  \n",
    "\n",
    "    f_CE = f(x_CE)\n",
    "    h_CE = sp.stats.multivariate_normal.pdf(x_CE,mu_X,Cov_X)\n",
    "    w_IS_IS = f_CE/h_CE\n",
    "    # update parameters\n",
    "    I_CE = g_CE< gamma_t\n",
    "    mu_X = sum((I_CE*w_IS_IS).reshape(1000,1)*x_CE)/sum(I_CE*w_IS_IS)\n",
    "    Xtmp = I_CE.reshape(1000,1)*x_CE-mu_X\n",
    "    Xo = (Xtmp)*np.transpose(np.tile(np.sqrt(w_IS_IS*I_CE),(dim,1)))\n",
    "    Cov_X = np.dot(np.transpose(Xo),Xo)/sum(I_CE*w_IS_IS)+1e-6*np.identity(dim)    \n",
    "    # Check if the final level is reached\n",
    "    if gamma_t == gamma:\n",
    "        break\n",
    "N_final = 100\n",
    "# Generate samples from the final distribution\n",
    "x_CE = sp.stats.multivariate_normal.rvs(mean=mu_X,cov = Cov_X,size=N_final)\n",
    "# Evaluate the performance \n",
    "g_CE = g(x_CE)\n",
    "# Evaluate the weights\n",
    "f_CE = f(x_CE)\n",
    "h_CE = sp.stats.multivariate_normal.pdf(x_CE,mu_X,Cov_X)\n",
    "w_CE = f_CE/h_CE\n",
    "I_CE = g_CE < gamma\n",
    "# Evaluate the Pr\n",
    "Q_CE2 = sum(I_CE*w_CE)/N_final\n",
    "# Quality of the estimator\n",
    "Var_CE2 = np.var(I_CE*w_CE)/N_final\n",
    "CV_CE2 = np.sqrt(Var_CE2)/Q_CE2\n",
    "Q_CE2\n"
   ]
  },
  {
   "cell_type": "code",
   "execution_count": 12,
   "metadata": {},
   "outputs": [
    {
     "data": {
      "text/plain": [
       "(100, 2)"
      ]
     },
     "execution_count": 12,
     "metadata": {},
     "output_type": "execute_result"
    }
   ],
   "source": [
    "x_CE.shape"
   ]
  },
  {
   "cell_type": "markdown",
   "metadata": {},
   "source": [
    "## Importance sampling method   \n",
    "    # IS density is found by the CE method (analytical closed form is available for the exponential parametric family)\n",
    "        # IS denstiy is found by IS-IS\n",
    "            # Full version"
   ]
  },
  {
   "cell_type": "code",
   "execution_count": 13,
   "metadata": {
    "scrolled": true
   },
   "outputs": [
    {
     "name": "stdout",
     "output_type": "stream",
     "text": [
      "\n",
      "Intermediate failure threshold:  3.850472324051749\n",
      "\n",
      "Intermediate failure threshold:  1.2869763406287138\n",
      "\n",
      "Intermediate failure threshold:  0.0\n"
     ]
    },
    {
     "data": {
      "text/plain": [
       "0.035913389169843525"
      ]
     },
     "execution_count": 13,
     "metadata": {},
     "output_type": "execute_result"
    }
   ],
   "source": [
    "import numpy as np\n",
    "import scipy as sp\n",
    "from ERANataf import ERANataf\n",
    "from ERADist import ERADist\n",
    "## Parameter definition\n",
    "mu_R = 10; sigma_R= 1.5\n",
    "mu_S = 5; sigma_S = 2\n",
    "R_pdf = ERADist(\"Lognormal\",\"MOM\",[mu_R, sigma_R])\n",
    "S_pdf = ERADist(\"Gumbel\",\"MOM\",[mu_S,sigma_S])\n",
    "# target distribution\n",
    "f = lambda x: R_pdf.pdf(x[:,0])*S_pdf.pdf(x[:,1])\n",
    "# Performance function\n",
    "# g = lambda R,S: R-S\n",
    "g = lambda x: x[:,0]-x[:,1] # x has the size Nxdim\n",
    "# Threshold \n",
    "gamma = 0\n",
    "Q_exact = 0.0331\n",
    "dim = 2\n",
    "np.random.seed(1)# For reproducibility\n",
    "## Importance sampling method (Choose the IS density through the cross entropy method)\n",
    "# IS density using the cross entropy method\n",
    "# number of samples per level\n",
    "N_CE = 1000\n",
    "# Quantile value to select samples for parameter update\n",
    "p = 0.3\n",
    "# limit state function in physical space\n",
    "g = lambda x: x[:,0]-x[:,1] # x has the size Nxdim\n",
    "# distribution Nataf object or marginal distribution of the input variables in physical space\n",
    "M = [ERADist(\"Lognormal\",\"MOM\",[mu_R, sigma_R]),ERADist(\"Gumbel\",\"MOM\",[mu_S,sigma_S])]\n",
    "Rho = np.identity(dim)\n",
    "# Apply the Nataf transformation\n",
    "T_Nataf = ERANataf(M,Rho)\n",
    "dim = len(T_Nataf.Marginals)\n",
    "u2x = lambda u: T_Nataf.U2X(u)\n",
    "# Limist state function in standard space\n",
    "G_LSF = lambda u: g(u2x(u).T)\n",
    "# Initialization of variables and storage\n",
    "j = 0 # initial level\n",
    "maxT = 100 # estimated number of iterations\n",
    "N_tot = 0 # total number of samples\n",
    "# Definition of parameters of the random variables (uncorrelated standard normal)\n",
    "mu_init = np.zeros(dim)\n",
    "Si_init = np.eye(dim)\n",
    "gamma_hat = np.zeros((maxT + 1))\n",
    "samplesU = list()\n",
    "# CE procedure\n",
    "# Initial parameters\n",
    "gamma_hat[j]=1\n",
    "mu_hat = mu_init\n",
    "Si_hat = Si_init\n",
    "# Iteration\n",
    "for t in range(maxT):\n",
    "    # Generate samples and save them\n",
    "    U = sp.stats.multivariate_normal.rvs(mean = mu_hat,cov = Si_hat, size=N_CE).reshape(-1,dim)\n",
    "    samplesU.append(U.T)\n",
    "    # Count generated samples\n",
    "    N_tot +=N_CE\n",
    "    # Evaluate the limit state funtion\n",
    "    geval = G_LSF(U.T)\n",
    "    # Calculating h for the likelihood funtion\n",
    "    h = sp.stats.multivariate_normal.pdf(U,mu_hat,Si_hat)\n",
    "    # Check convergence\n",
    "    if gamma_hat[t] == 0:\n",
    "        break\n",
    "    # obtaining estimator gamma\n",
    "    gamma_hat[t+1] = np.maximum(0,np.nanpercentile(geval,p*100))\n",
    "    print(\"\\nIntermediate failure threshold: \",gamma_hat[t+1])\n",
    "    # Indicator function\n",
    "    I = geval <= gamma_hat[t+1]\n",
    "    # Likelihood ratio\n",
    "    W = (sp.stats.multivariate_normal.pdf(U,mean=np.zeros((dim)),cov = np.eye(dim))/h)\n",
    "    # Parameter update: Closed-form update\n",
    "    prod = np.matmul(W[I],U[I,:])\n",
    "    summ = np.sum(W[I])\n",
    "    mu_hat = (prod)/summ\n",
    "    Xtmp = U[I,:]-mu_hat\n",
    "    Xo = (Xtmp)*np.tile(np.sqrt(W[I]),(dim,1)).T\n",
    "    Si_hat = np.matmul(Xo.T,Xo)/np.sum(W[I])+1e-6*np.eye(dim)\n",
    "# needed steps\n",
    "T_CE = t\n",
    "#gamma_hat = gamma_hat[:,T_CE+1] # intermediate levels\n",
    "# Calculation of the probability of failure\n",
    "W_final = sp.stats.multivariate_normal.pdf(U,mean=np.zeros(dim),cov = np.eye(dim))/h\n",
    "I_final = geval <= 0\n",
    "Pr = 1/N_CE*sum(I_final*W_final)\n",
    "k_fin = 1 # final number of gaussinas in the mixture\n",
    "Pr"
   ]
  },
  {
   "cell_type": "code",
   "execution_count": 14,
   "metadata": {
    "scrolled": true
   },
   "outputs": [
    {
     "data": {
      "text/plain": [
       "(4,)"
      ]
     },
     "execution_count": 14,
     "metadata": {},
     "output_type": "execute_result"
    }
   ],
   "source": [
    "np.zeros((4)).shape"
   ]
  },
  {
   "cell_type": "code",
   "execution_count": 15,
   "metadata": {},
   "outputs": [
    {
     "data": {
      "text/plain": [
       "(4,)"
      ]
     },
     "execution_count": 15,
     "metadata": {},
     "output_type": "execute_result"
    }
   ],
   "source": [
    "np.zeros(4).shape"
   ]
  },
  {
   "cell_type": "code",
   "execution_count": 21,
   "metadata": {},
   "outputs": [],
   "source": [
    "def CEIS_SG(N,p,g_fun,distr):\n",
    "    if isinstance(distr,ERANataf): #use Nataf transform (dependence)\n",
    "        dim = len(distr.Marginals) # number of random variables(dimension)\n",
    "        u2x = lambda u: distr.U2X(u) # from u to x\n",
    "    elif isinstance(distr[0],ERADist):# use distribution information for the transformation (independence)\n",
    "    # here we are assuming that all parameters have the same distribution \n",
    "    # Adjust accordingly otherwise\n",
    "        dim = len(distr)# number of random variables(dimenstion)\n",
    "        u2x = lambda u: distr[0].icdf(sp.stats.norm.cdf(u))# from u to x\n",
    "    else:\n",
    "        raise RuntimeError(\"Incorrect distribution. Please create an ERADist/ Nataf object!\")\n",
    "    # LSF in standard space\n",
    "    G_LSF = lambda u: g_fun(u2x(u))\n",
    "    # Initialization of variables and storage\n",
    "    t = 0 # initial level\n",
    "    maxT = 50 # estimated number of iterations\n",
    "    N_tot = 0 # total number of samples (total number of evaluations)\n",
    "    # Definition of parameters of the random variables in the transformed space(always uncorrelated)\n",
    "    mu_init = np.zeros(dim)\n",
    "    Si_init = np.identity(dim)\n",
    "    gamma_hat = np.zeros((maxT+1))\n",
    "    samplesU = list()\n",
    "    # CE procedure\n",
    "    # Initializing parameteres\n",
    "    gamma_hat[t] = 1\n",
    "    mu_U = mu_init\n",
    "    Si_U = Si_init\n",
    "    # Iteration\n",
    "    for t in range(maxT):\n",
    "        # Generate samples and save them\n",
    "        U = sp.stats.multivariate_normal.rvs(mean=mu_U,cov=Si_U,size=N).reshape(-1,dim) # U Nxdim\n",
    "        samplesU.append(U.T)\n",
    "        #Count generated samples\n",
    "        N_tot +=N\n",
    "        # Evaluation of the limit state function \n",
    "        geval = G_LSF(U.T)\n",
    "        # Calcultate h for the likelihood ratio\n",
    "        h = sp.stats.multivariate_normal.pdf(U,mu_U,Si_U)\n",
    "        # check convergence\n",
    "        if gamma_hat[t] == 0:\n",
    "            break\n",
    "        # obtaining estimator gamma\n",
    "        gamma_hat[t+1] = np.maximum(0,np.nanpercentile(geval,p*100))\n",
    "        print(\"\\nIntermediate failure threshold: \", gamma_hat[t+1])\n",
    "        # Indicator function\n",
    "        I = geval <= gamma_hat[t+1]\n",
    "        # Likelihood ratio\n",
    "        W  = sp.stats.multivariate_normal.pdf(U,mean=np.zeros(dim),cov=np.identity(dim))/h\n",
    "        # parameter updata: closed form update (IS estimation)\n",
    "        #prod = np.matmul(W[I],U[I,:])\n",
    "        prod = np.array((np.dot(W[I],U[I,0]),np.dot(W[I],U[I,1])))\n",
    "        summ = np.sum(W[I])\n",
    "        mu_U = prod / summ\n",
    "        Xtmp = U[I,:]-mu_U\n",
    "        Xo = (Xtmp)*np.tile(np.sqrt(W[I]),(dim,1)).T\n",
    "        Si_U = np.matmul(Xo.T,Xo) / np.sum(W[I]) + 1e-6*np.identity(dim)\n",
    "    # needed steps\n",
    "    lv = t+1\n",
    "    gamma_hat = gamma_hat[: lv+1]\n",
    "    # calculate the probability of failure\n",
    "    W_final= sp.stats.multivariate_normal.pdf(U,mean=np.zeros(dim),cov=np.identity(dim))/h\n",
    "    I_final = geval <= 0\n",
    "    Pr = 1/N* sum(I_final*W_final)\n",
    "    k_fin = 1\n",
    "    # transform the samples to the pyhsical/original space\n",
    "    samplesX = list()\n",
    "    for i in range(lv):\n",
    "        samplesX.append(u2x(samplesU[i][:,:]))\n",
    "    return Pr, lv, N_tot, gamma_hat, samplesU, samplesX, k_fin"
   ]
  },
  {
   "cell_type": "code",
   "execution_count": 22,
   "metadata": {},
   "outputs": [
    {
     "name": "stdout",
     "output_type": "stream",
     "text": [
      "\n",
      "CE-based IS stage: \n",
      "\n",
      "Intermediate failure threshold:  3.245902376965077\n",
      "\n",
      "Intermediate failure threshold:  0.2215812259650372\n",
      "\n",
      "Intermediate failure threshold:  0.0\n",
      "\n",
      "***Reference Pf:  0.0331  ***\n",
      "***CE-based IS Pf:  0.0339868938169038  ***\n",
      "\n"
     ]
    },
    {
     "data": {
      "image/png": "[encoded data removed]",
      "text/plain": [
       "<Figure size 432x288 with 1 Axes>"
      ]
     },
     "metadata": {
      "needs_background": "light"
     },
     "output_type": "display_data"
    }
   ],
   "source": [
    "# CEIS_SG function call\n",
    "## Parameter definition\n",
    "mu_R = 10; sigma_R = 1.5\n",
    "mu_S = 5; sigma_S = 2\n",
    "R_pdf = ERADist('Lognormal','MOM',[mu_R, sigma_R])\n",
    "S_pdf = ERADist('Gumbel','MOM',[mu_S,sigma_S])\n",
    "# target distribution R,S are independent\n",
    "f = lambda x: R_pdf.pdf(x[:,0])*S_pdf.pdf(x[:,1])# x Nxdim\n",
    "# performance function g = R-S\n",
    "g = lambda x: x[0,:]-x[1,:]# X: N:dim\n",
    "# Threshold\n",
    "gamma = 0\n",
    "N_CE = 1000\n",
    "p = 0.2\n",
    "dim = 2\n",
    "# distribution Nataf object or marginal distribution of the input variables in physical space\n",
    "M = [R_pdf, S_pdf]\n",
    "Rho = np.identity(dim)\n",
    "# Apply the Nataf transformation\n",
    "T_Nataf = ERANataf(M,Rho)\n",
    "print(\"\\nCE-based IS stage: \")\n",
    "method = 'CE_SG'\n",
    "if method == 'CE_SG':\n",
    "    [Pr,lv,N_tot,gamma_hat,samplesU,samplesX,k_fin]=CEIS_SG(N_CE,p,g,T_Nataf)\n",
    "# reference solution\n",
    "Q_exact = 0.0331\n",
    "# show p_f results\n",
    "print(\"\\n***Reference Pf: \",Q_exact,\" ***\")\n",
    "print(\"***CE-based IS Pf: \",Pr,\" ***\\n\")\n",
    "# Plot samples\n",
    "if dim == 2:\n",
    "    nnp = 200\n",
    "    xx = np.linspace(-6,6,nnp)\n",
    "    [X,Y] = np.meshgrid(xx,xx)\n",
    "    xnod = np.array([X,Y])\n",
    "    Z = g(xnod)\n",
    "    fig,ax = plt.subplots(subplot_kw={\"aspect\": \"equal\"})\n",
    "    ax.contour(X,Y,Z,[0],colors='r',linewidths = 3)#LSF\n",
    "    for sample in samplesU:\n",
    "        ax.plot(*sample,\".\",markersize=2)\n",
    "    plt.show()"
   ]
  },
  {
   "cell_type": "markdown",
   "metadata": {},
   "source": [
    "## Importance sampling method\n",
    "    # IS density is found by the improved CE method (iCE)"
   ]
  },
  {
   "cell_type": "code",
   "execution_count": 42,
   "metadata": {},
   "outputs": [],
   "source": [
    "def approx_normCDF(x):\n",
    "    # Return an approximation for the standard normal CDF based on a polynomial fit of degree 9\n",
    "    erfun = np.zeros(len(x))\n",
    "    idpos = x > 0\n",
    "    idneg = x < 0\n",
    "    t = (1+0.5*abs(x/np.sqrt(2)))**-1\n",
    "    tau = t*np.exp(\n",
    "        -((x/np.sqrt(2))**2)\n",
    "        -1.26551223\n",
    "        + 1.0000236 * t\n",
    "        + 0.37409196 * (t ** 2)\n",
    "        + 0.09678418 * (t ** 3)\n",
    "        - 0.18628806 * (t ** 4)\n",
    "        + 0.27886807 * (t ** 5)\n",
    "        - 1.13520398 * (t ** 6)\n",
    "        + 1.48851587 * (t ** 7)\n",
    "        - 0.82215223 * (t ** 8)\n",
    "        + 0.17087277 * (t ** 9)\n",
    "    )\n",
    "    erfun[idpos] = 1-tau[idpos]\n",
    "    erfun[idneg] = tau[idneg] -1\n",
    "    p = 0.5*(1+erfun)\n",
    "    return p"
   ]
  },
  {
   "cell_type": "code",
   "execution_count": 51,
   "metadata": {},
   "outputs": [
    {
     "name": "stdout",
     "output_type": "stream",
     "text": [
      "\n",
      "CE-based IS stage: \n"
     ]
    }
   ],
   "source": [
    "## Improved Cross Entropy method self written\n",
    "## Parameter definition\n",
    "mu_R = 10; sigma_R= 1.5\n",
    "mu_S = 5; sigma_S = 2\n",
    "R_pdf = ERADist(\"Lognormal\",\"MOM\",[mu_R, sigma_R])\n",
    "S_pdf = ERADist(\"Gumbel\",\"MOM\",[mu_S,sigma_S])\n",
    "# target distribution\n",
    "f = lambda x: R_pdf.pdf(x[:,0])*S_pdf.pdf(x[:,1])\n",
    "# Performance function\n",
    "# g = lambda R,S: R-S\n",
    "g = lambda x: x[0,:]-x[1,:] # x has the size dimxN\n",
    "# Threshold \n",
    "gamma = 0\n",
    "N_iCE = 1000\n",
    "p = 0.2\n",
    "dim = 2\n",
    "max_it = 50\n",
    "CV_target = 1.5\n",
    "# distribution Nataf object or marginal distribution of the input variables in physical space\n",
    "M = [R_pdf,S_pdf]\n",
    "Rho = np.identity(dim)\n",
    "# Apply the Nataf transformation\n",
    "T_Nataf = ERANataf(M,Rho)\n",
    "print(\"\\nCE-based IS stage: \")\n",
    "#dim = len(T_Nataf)\n",
    "u2x = lambda u: T_Nataf.U2X(u)\n",
    "# LSF in standard space\n",
    "G_LSF = lambda u: g(u2x(u))\n",
    "# Initialization of variables and storage\n",
    "N_tot = 0\n",
    "# Definition of parameters of the random variables (uncorrelated standard normal)\n",
    "mu_init = np.zeros(dim)\n",
    "si_init = np.identity(dim)\n",
    "sigma_t = np.zeros(max_it)\n",
    "samplesU = list()\n",
    "# CE procedure\n",
    "# Initializing parameters\n",
    "mu_hat = mu_init\n",
    "si_hat = si_init\n",
    "# Function reference\n",
    "normalCDF = sp.stats.norm.cdf\n",
    "minimize = sp.optimize.fminbound\n",
    "# iteration \n",
    "for t in range(max_it):\n",
    "    # Generate samples and save them\n",
    "    U = sp.stats.multivariate_normal.rvs(mean = mu_hat,cov = si_hat,size = N_iCE).reshape(-1,dim)\n",
    "    samplesU.append(U.T)\n",
    "    # Count generated samples\n",
    "    N_tot += N_iCE\n",
    "    #Evaluation of the limit state function\n",
    "    geval = G_LSF(U.T)\n",
    "    # initialze sigma_0\n",
    "    if j == 0:\n",
    "        sigma_t[j] = 10*np.mean(geval)\n",
    "    else:\n",
    "        sigma_t[j] = sigma_new\n",
    "    # Calculating h for the likelihood ratio\n",
    "    h = sp.stats.multivariate_normal.pdf(U,mu_hat,si_hat)\n",
    "    # Likelihood ratio \n",
    "    W = sp.stats.multivariate_normal.pdf(U,mean=np.zeros(dim),cov = np.identity(dim))/h\n",
    "    # Indicator function\n",
    "    I  =geval <= 0\n",
    "    # Check convergence\n",
    "    # Transitional weight W_t =h*(u)/h(u)=I(G(u)<=0)/normcdf(-G(u)/sigma_t), I*W when sigma_t approaches 0 \n",
    "    W_approx = np.divide(I,approx_normCDF(-geval/sigma_t[j]))# weight o findicator approximation\n",
    "    Cov_x = np.std(W_approx)/np.mean(W_approx)\n",
    "    if Cov_x <= CV_target:\n",
    "        break\n",
    "    # compute sigma and weights for distribution fitting \n",
    "    # minimize COV of W_t ( W_t = approx_normCDF*W)\n",
    "    fmin = lambda x: abs(\n",
    "        np.std(np.multiply(approx_normCDF(-geval/x),W))\n",
    "        /np.mean(np.multiply(approx_normCDF(-geval/x),W))\n",
    "        -CV_target)\n",
    "    sigma_new = minimize(fmin,0,sigma_t[j])\n",
    "    # Update W_t \n",
    "    W_t = np.multiply(approx_normCDF(-geval/sigma_new),W)[:,None]\n",
    "    # Parameter update : closed form update\n",
    "    mu_hat = np.divide((W_t.T@U),sum(W_t)).flatten()\n",
    "    Xo = np.multiply((U-mu_hat),np.sqrt(W_t))\n",
    "    si_hat = np.divide((Xo.T@Xo),sum(W_t))+1e-6*np.identity(dim)\n",
    "    \n",
    "# needed steps\n",
    "lv = t\n",
    "# Calculation of the probability of failure\n",
    "Pr = 1/N_iCE *sum(W[I])\n",
    "# transfor the samples to the physical space\n",
    "samplesX = list()\n",
    "for i in range(lv): \n",
    "    samplesX.append(u2x(samplesU[i]))\n",
    "#return Pr, lv, N_tot, samplesU, samplesX"
   ]
  },
  {
   "cell_type": "code",
   "execution_count": 52,
   "metadata": {},
   "outputs": [
    {
     "name": "stdout",
     "output_type": "stream",
     "text": [
      "\n",
      "***Reference Pf:  0.0331  ***\n",
      "***CE-based IS Pf:  0.034581796256473715  ***\n",
      "\n"
     ]
    },
    {
     "data": {
      "image/png": "[encoded data removed]",
      "text/plain": [
       "<Figure size 432x288 with 1 Axes>"
      ]
     },
     "metadata": {
      "needs_background": "light"
     },
     "output_type": "display_data"
    }
   ],
   "source": [
    "# reference solution\n",
    "Q_exact = 0.0331\n",
    "# show p_f results\n",
    "print(\"\\n***Reference Pf: \", Q_exact, \" ***\")\n",
    "print(\"***CE-based IS Pf: \", Pr, \" ***\\n\")\n",
    "# Plot samples\n",
    "if dim == 2:\n",
    "    nnp = 200\n",
    "    xx = np.linspace(-6, 6, nnp)\n",
    "    [X, Y] = np.meshgrid(xx, xx)\n",
    "    xnod = np.array([X, Y])\n",
    "    Z = g(xnod)\n",
    "\n",
    "    fig, ax = plt.subplots(subplot_kw={\"aspect\": \"equal\"})\n",
    "    ax.contour(X, Y, Z, [0], colors=\"r\", linewidths=3)  # LSF\n",
    "    for sample in samplesU:\n",
    "        ax.plot(*sample, \".\", markersize=2)\n",
    "    plt.show()"
   ]
  },
  {
   "cell_type": "markdown",
   "metadata": {},
   "source": [
    "Improved Cross Entropy Self version"
   ]
  },
  {
   "cell_type": "code",
   "execution_count": 3,
   "metadata": {},
   "outputs": [
    {
     "name": "stdout",
     "output_type": "stream",
     "text": [
      "\n",
      "CE-based IS stage: \n",
      "\n",
      "***Reference Pf:  0.0331  ***\n",
      "***CE-based IS Pf:  0.03184653062407222  ***\n",
      "\n"
     ]
    },
    {
     "data": {
      "image/png": "[encoded data removed]",
      "text/plain": [
       "<Figure size 432x288 with 1 Axes>"
      ]
     },
     "metadata": {
      "needs_background": "light"
     },
     "output_type": "display_data"
    }
   ],
   "source": [
    "## Improved Cross Entropy method self written\n",
    "## Parameter definition\n",
    "mu_R = 10; sigma_R= 1.5\n",
    "mu_S = 5; sigma_S = 2\n",
    "R_pdf = ERADist(\"Lognormal\",\"MOM\",[mu_R, sigma_R])\n",
    "S_pdf = ERADist(\"Gumbel\",\"MOM\",[mu_S,sigma_S])\n",
    "# target distribution\n",
    "f = lambda x: R_pdf.pdf(x[:,0])*S_pdf.pdf(x[:,1])\n",
    "# Performance function\n",
    "# g = lambda R,S: R-S\n",
    "g = lambda x: x[0,:]-x[1,:] # x has the size dimxN\n",
    "# Threshold \n",
    "gamma = 0\n",
    "N_iCE = 1000\n",
    "p = 0.2\n",
    "dim = 2\n",
    "max_it = 50\n",
    "CV_target = 1.5\n",
    "# distribution Nataf object or marginal distribution of the input variables in physical space\n",
    "M = [R_pdf,S_pdf]\n",
    "Rho = np.identity(dim)\n",
    "# Apply the Nataf transformation\n",
    "T_Nataf = ERANataf(M,Rho)\n",
    "print(\"\\nCE-based IS stage: \")\n",
    "G_LSF = lambda u: g(T_Nataf.U2X(u))\n",
    "# Initialization of variables and storage\n",
    "N_tot = 0 # Total number of samples\n",
    "# Definition of parameters of the random variables\n",
    "mu_init = np.zeros(dim)\n",
    "si_init = np.identity(dim)\n",
    "sigma_t = np.zeros(max_it)\n",
    "samplesU = list()\n",
    "# CE rpocedure\n",
    "mu_U = mu_init\n",
    "si_U = si_init\n",
    "# Funct\n",
    "# Iteration\n",
    "for t in range(max_it):\n",
    "    # Generate samples and save them\n",
    "    U = sp.stats.multivariate_normal.rvs(mean=mu_U,cov = si_U,size = N_iCE).reshape(-1,dim)\n",
    "    samplesU.append(U.T)\n",
    "    # Count generated samples\n",
    "    N_tot += N_iCE\n",
    "    # Evaluate the limit state funciton\n",
    "    geval = G_LSF(U.T)\n",
    "    # initialize sigma_0\n",
    "    if t==0:\n",
    "        sigma_t[t] = 10 * np.mean(geval)\n",
    "    else:\n",
    "        sigma_t[t] = sigma_new\n",
    "    # Calculating h for the likelihood ratio\n",
    "    h = sp.stats.multivariate_normal.pdf(U,mu_U,si_U)\n",
    "    phi = sp.stats.multivariate_normal.pdf(U,mean=np.zeros(dim),cov = np.identity(dim))\n",
    "    # likelihood ratio for the original CE weight\n",
    "    W = phi/h\n",
    "    # Indicator function\n",
    "    I = geval <= 0\n",
    "    # iCE weight W_t = I*W    W_t = h*/h_t  = (I*phi/PF)/(It*phi/PFt) = (I/PF)/(It/PFt) proportional to I/It = I / (phi(-G/(sigma_t))\n",
    "    W_t = I*W\n",
    "    # CV of W_t\n",
    "    delta_Wt = np.std(W_t)/np.mean(W_t)\n",
    "    if delta_Wt <= CV_target:\n",
    "        break\n",
    "    # solve the optimization problem\n",
    "    I_fun = lambda sigma: sp.stats.norm.cdf(-geval/sigma)\n",
    "    Wt_fun = lambda sigma: I_fun(sigma)*W\n",
    "    CV_Wt_fun = lambda sigma :np.std(Wt_fun(sigma))/np.mean(Wt_fun(sigma))\n",
    "    fmin = lambda sigma: abs(CV_Wt_fun(sigma)-CV_target)\n",
    "    sigma_new = sp.optimize.fminbound(fmin,0,sigma_t[t])\n",
    "    # Update W_t \n",
    "    W_t = Wt_fun(sigma_new)\n",
    "    # Parameter update: closed form update\n",
    "    mu_U = W_t @ U / sum(W_t) \n",
    "    Xtmp = U-mu_U \n",
    "    Xo = Xtmp * np.tile(np.sqrt(W_t),(dim,1)).T\n",
    "    Si_U = np.matmul(Xo.T,Xo)/np.sum(W_t)+1e-6*np.identity(dim)\n",
    "# total levels\n",
    "lv = t\n",
    "# calculation of the probability of failures\n",
    "Pr = 1 / N_iCE * sum(W[I])\n",
    "# Pr = 1 / N_iCE * sum(W_t) \n",
    "# transform the samples to the physical/original space\n",
    "samplesX = list()\n",
    "for i in range(lv):\n",
    "    samplesX.append(T_Nataf.U2X(samplesU[i]))\n",
    "# reference solution\n",
    "Q_exact = 0.0331\n",
    "# show p_f results\n",
    "print(\"\\n***Reference Pf: \", Q_exact, \" ***\")\n",
    "print(\"***CE-based IS Pf: \", Pr, \" ***\\n\")\n",
    "# Plot samples\n",
    "if dim == 2:\n",
    "    nnp = 200\n",
    "    xx = np.linspace(-6, 6, nnp)\n",
    "    [X, Y] = np.meshgrid(xx, xx)\n",
    "    xnod = np.array([X, Y])\n",
    "    Z = g(xnod)\n",
    "\n",
    "    fig, ax = plt.subplots(subplot_kw={\"aspect\": \"equal\"})\n",
    "    ax.contour(X, Y, Z, [0], colors=\"r\", linewidths=3)  # LSF\n",
    "    for sample in samplesU:\n",
    "        ax.plot(*sample, \".\", markersize=2)\n",
    "    plt.show()"
   ]
  },
  {
   "cell_type": "code",
   "execution_count": 4,
   "metadata": {},
   "outputs": [
    {
     "data": {
      "text/plain": [
       "array([4.96026107e+01, 2.93369516e+00, 8.13125097e-01, 4.28541384e-03,\n",
       "       0.00000000e+00, 0.00000000e+00, 0.00000000e+00, 0.00000000e+00,\n",
       "       0.00000000e+00, 0.00000000e+00, 0.00000000e+00, 0.00000000e+00,\n",
       "       0.00000000e+00, 0.00000000e+00, 0.00000000e+00, 0.00000000e+00,\n",
       "       0.00000000e+00, 0.00000000e+00, 0.00000000e+00, 0.00000000e+00,\n",
       "       0.00000000e+00, 0.00000000e+00, 0.00000000e+00, 0.00000000e+00,\n",
       "       0.00000000e+00, 0.00000000e+00, 0.00000000e+00, 0.00000000e+00,\n",
       "       0.00000000e+00, 0.00000000e+00, 0.00000000e+00, 0.00000000e+00,\n",
       "       0.00000000e+00, 0.00000000e+00, 0.00000000e+00, 0.00000000e+00,\n",
       "       0.00000000e+00, 0.00000000e+00, 0.00000000e+00, 0.00000000e+00,\n",
       "       0.00000000e+00, 0.00000000e+00, 0.00000000e+00, 0.00000000e+00,\n",
       "       0.00000000e+00, 0.00000000e+00, 0.00000000e+00, 0.00000000e+00,\n",
       "       0.00000000e+00, 0.00000000e+00])"
      ]
     },
     "execution_count": 4,
     "metadata": {},
     "output_type": "execute_result"
    }
   ],
   "source": [
    "sigma_t"
   ]
  },
  {
   "cell_type": "code",
   "execution_count": 6,
   "metadata": {},
   "outputs": [
    {
     "data": {
      "text/plain": [
       "array([4.96026107e+01, 2.93369516e+00, 8.13125097e-01, 4.28541384e-03,\n",
       "       0.00000000e+00, 0.00000000e+00, 0.00000000e+00, 0.00000000e+00,\n",
       "       0.00000000e+00, 0.00000000e+00, 0.00000000e+00, 0.00000000e+00,\n",
       "       0.00000000e+00, 0.00000000e+00, 0.00000000e+00, 0.00000000e+00,\n",
       "       0.00000000e+00, 0.00000000e+00, 0.00000000e+00, 0.00000000e+00,\n",
       "       0.00000000e+00, 0.00000000e+00, 0.00000000e+00, 0.00000000e+00,\n",
       "       0.00000000e+00, 0.00000000e+00, 0.00000000e+00, 0.00000000e+00,\n",
       "       0.00000000e+00, 0.00000000e+00, 0.00000000e+00, 0.00000000e+00,\n",
       "       0.00000000e+00, 0.00000000e+00, 0.00000000e+00, 0.00000000e+00,\n",
       "       0.00000000e+00, 0.00000000e+00, 0.00000000e+00, 0.00000000e+00,\n",
       "       0.00000000e+00, 0.00000000e+00, 0.00000000e+00, 0.00000000e+00,\n",
       "       0.00000000e+00, 0.00000000e+00, 0.00000000e+00, 0.00000000e+00,\n",
       "       0.00000000e+00, 0.00000000e+00])"
      ]
     },
     "execution_count": 6,
     "metadata": {},
     "output_type": "execute_result"
    }
   ],
   "source": [
    "sigma_t"
   ]
  },
  {
   "cell_type": "code",
   "execution_count": 4,
   "metadata": {},
   "outputs": [
    {
     "data": {
      "text/plain": [
       "(1000,)"
      ]
     },
     "execution_count": 4,
     "metadata": {},
     "output_type": "execute_result"
    }
   ],
   "source": [
    "I.shape"
   ]
  },
  {
   "cell_type": "code",
   "execution_count": 11,
   "metadata": {},
   "outputs": [
    {
     "data": {
      "text/plain": [
       "(1000,)"
      ]
     },
     "execution_count": 11,
     "metadata": {},
     "output_type": "execute_result"
    }
   ],
   "source": [
    "(W*I).shape"
   ]
  },
  {
   "cell_type": "code",
   "execution_count": 6,
   "metadata": {},
   "outputs": [
    {
     "data": {
      "text/plain": [
       "0.03251787062491083"
      ]
     },
     "execution_count": 6,
     "metadata": {},
     "output_type": "execute_result"
    }
   ],
   "source": [
    "Pr = 1 / N_iCE * sum(W_t)\n",
    "Pr"
   ]
  },
  {
   "cell_type": "code",
   "execution_count": 7,
   "metadata": {},
   "outputs": [
    {
     "data": {
      "text/plain": [
       "(1000, 2)"
      ]
     },
     "execution_count": 7,
     "metadata": {},
     "output_type": "execute_result"
    }
   ],
   "source": [
    "U .shape"
   ]
  },
  {
   "cell_type": "code",
   "execution_count": 8,
   "metadata": {},
   "outputs": [
    {
     "data": {
      "text/plain": [
       "array([-29.73138327,  65.89539306])"
      ]
     },
     "execution_count": 8,
     "metadata": {},
     "output_type": "execute_result"
    }
   ],
   "source": [
    "W_t.T @U"
   ]
  },
  {
   "cell_type": "code",
   "execution_count": 9,
   "metadata": {},
   "outputs": [
    {
     "data": {
      "text/plain": [
       "array([-29.73138327,  65.89539306])"
      ]
     },
     "execution_count": 9,
     "metadata": {},
     "output_type": "execute_result"
    }
   ],
   "source": [
    "W_t @U"
   ]
  },
  {
   "cell_type": "code",
   "execution_count": 82,
   "metadata": {},
   "outputs": [
    {
     "ename": "ValueError",
     "evalue": "operands could not be broadcast together with shapes (1000,2) (1000,) ",
     "output_type": "error",
     "traceback": [
      "\u001b[1;31m---------------------------------------------------------------------------\u001b[0m",
      "\u001b[1;31mValueError\u001b[0m                                Traceback (most recent call last)",
      "\u001b[1;32m<ipython-input-82-5b8a0cf6bdd5>\u001b[0m in \u001b[0;36m<module>\u001b[1;34m\u001b[0m\n\u001b[1;32m----> 1\u001b[1;33m \u001b[0mnp\u001b[0m\u001b[1;33m.\u001b[0m\u001b[0mmultiply\u001b[0m\u001b[1;33m(\u001b[0m\u001b[1;33m(\u001b[0m\u001b[0mU\u001b[0m\u001b[1;33m-\u001b[0m\u001b[0mmu_hat\u001b[0m\u001b[1;33m)\u001b[0m \u001b[1;33m,\u001b[0m\u001b[0mnp\u001b[0m\u001b[1;33m.\u001b[0m\u001b[0msqrt\u001b[0m\u001b[1;33m(\u001b[0m\u001b[0mW_t\u001b[0m\u001b[1;33m)\u001b[0m\u001b[1;33m)\u001b[0m\u001b[1;33m\u001b[0m\u001b[1;33m\u001b[0m\u001b[0m\n\u001b[0m",
      "\u001b[1;31mValueError\u001b[0m: operands could not be broadcast together with shapes (1000,2) (1000,) "
     ]
    }
   ],
   "source": [
    "np.multiply((U-mu_hat) ,np.sqrt(W_t))"
   ]
  },
  {
   "cell_type": "code",
   "execution_count": 84,
   "metadata": {},
   "outputs": [
    {
     "data": {
      "text/plain": [
       "(1000,)"
      ]
     },
     "execution_count": 84,
     "metadata": {},
     "output_type": "execute_result"
    }
   ],
   "source": [
    "np.sqrt(W_t).shape"
   ]
  },
  {
   "cell_type": "markdown",
   "metadata": {},
   "source": [
    "## Subset simulation method"
   ]
  },
  {
   "cell_type": "code",
   "execution_count": 31,
   "metadata": {},
   "outputs": [
    {
     "name": "stdout",
     "output_type": "stream",
     "text": [
      "\n",
      "Intermediate failure threshold:  4.979822372132402\n",
      "\n",
      "Intermediate failure threshold:  0.0\n"
     ]
    },
    {
     "data": {
      "text/plain": [
       "0.030869999999999998"
      ]
     },
     "execution_count": 31,
     "metadata": {},
     "output_type": "execute_result"
    }
   ],
   "source": [
    "## Subset simulation method \n",
    "# Since we need to do the simulation in the standard normal space we need Nataf transformation\n",
    "# to transform the Inputs in the physical space to the mean=0, Cov = indentity matrix multivariate standard normal space\n",
    "dim = 2\n",
    "# Set up the Nataf distribution object\n",
    "mu_R = 10; sigma_R= 1.5;\n",
    "mu_S = 5; sigma_S = 2;Q_exact\n",
    "R_pdf = ERADist(\"Lognormal\",\"MOM\",[mu_R, sigma_R])\n",
    "S_pdf = ERADist(\"Gumbel\",\"MOM\",[mu_S,sigma_S])\n",
    "# distribution Nataf object or marginal distribution of the input variables in physical space\n",
    "M = [ERADist(\"Lognormal\",\"MOM\",[mu_R, sigma_R]),ERADist(\"Gumbel\",\"MOM\",[mu_S,sigma_S])]\n",
    "Rho = np.identity(dim)\n",
    "# Apply the Nataf transformation\n",
    "T_Nataf = ERANataf(M,Rho)\n",
    "# target distribution\n",
    "f = lambda x: R_pdf.pdf(x[:,0])*S_pdf.pdf(x[:,1])\n",
    "# number of samples per level\n",
    "N_SuS = 1000\n",
    "# Quantile\n",
    "p = 0.3\n",
    "# Correlation parameter for the conditional sampling M-H\n",
    "rho = 0.8\n",
    "# Generate samples at the first level ~ standard multi-normal distribution\n",
    "u_SuS = sp.stats.multivariate_normal.rvs(0,1,(N_SuS,dim)) #dimxN_SuS\n",
    "# Generate samples in the original space\n",
    "x_SuS = np.transpose(T_Nataf.U2X(np.transpose(u_SuS)))# N_SuS xdim\n",
    "# Evaluate the responses# g = lambda R,S: R-S\n",
    "#g = lambda x: x[:,0]-x[:,1] # x has the size Nxdim\n",
    "g_SuS = g(x_SuS)\n",
    "maxT = 100\n",
    "for t in range(maxT):\n",
    "    # Sort the responses\n",
    "    g_SuS_sort = np.sort(g_SuS)\n",
    "    # Estimate gamma_t\n",
    "    gamma_t = max(g_SuS_sort[int(p*N_SuS)],gamma)\n",
    "\n",
    "    #gamma_t = np.nanpercentile(g_SuS,p*100)\n",
    "    #gamma_t = max(gamma_t,gamma)\n",
    "    # Check if the final level is reached\n",
    "    if gamma_t == gamma:\n",
    "        break\n",
    "    print(\"\\nIntermediate failure threshold: \",gamma_hat[t+1])\n",
    "    # set seeds for conditional MCMC\n",
    "    I_SuS = g_SuS < gamma_t\n",
    "    u_seed = u_SuS[I_SuS,:]\n",
    "    g_seed = g_SuS[I_SuS]\n",
    "    # Number of seeds\n",
    "    N_seed = sum(I_SuS)\n",
    "    # Length of each chain\n",
    "    N_Chain = np.floor(N_SuS/N_seed)*np.ones((N_seed,1))\n",
    "    N_Chain[1:np.mod(N_SuS,N_seed)] = N_Chain[1:np.mod(N_SuS, N_seed)]+1\n",
    "    # Conditional sampling M-H algorithm\n",
    "    count = 0\n",
    "    for i in range(N_seed):\n",
    "        count = count+1\n",
    "        u_SuS[count,:] = u_seed[i,:]\n",
    "        g_SuS[count] = g_seed[i]\n",
    "        \n",
    "        for j in range(int(N_Chain[i])-1):\n",
    "            count = count+1\n",
    "            # generate candidate state\n",
    "            #Corr_z = (1-np.power(rho,2))*np.identity(dim)\n",
    "            #z = sp.stats.multivariate_normal.rvs([0,0],Corr_z,(dim,1))\n",
    "            z = sp.stats.norm.rvs(0,np.sqrt(1-np.power(rho,2)),(dim,1))\n",
    "            u_cand = rho*u_SuS[count-1,:]+np.transpose(z)\n",
    "            # candidate samples at the pyhsical space\n",
    "            x_cand = np.transpose(T_Nataf.U2X(np.transpose(u_cand)))# u: dimxN; x: Nxdim\n",
    "            # Evaluate the responses \n",
    "            g_cand = g(x_cand)\n",
    "            # accept or reject \n",
    "            if g_cand < gamma_t:\n",
    "                u_SuS[count,:] = u_cand\n",
    "                g_SuS[count] = g_cand\n",
    "            else:\n",
    "                u_SuS[count,:] = u_SuS[count-1,:]\n",
    "                g_SuS[count] = g_SuS[count-1]\n",
    "            \n",
    "# Total number of levels\n",
    "T_SuS = t+1\n",
    "# Evaluation of Pr(g_SuS<0)\n",
    "I_SuS = g_SuS < gamma\n",
    "Q_SuS = (np.power(p,(T_SuS-1)))*sum(I_SuS)/N_SuS\n",
    "Q_SuS"
   ]
  },
  {
   "cell_type": "code",
   "execution_count": 32,
   "metadata": {},
   "outputs": [
    {
     "data": {
      "text/plain": [
       "300"
      ]
     },
     "execution_count": 32,
     "metadata": {},
     "output_type": "execute_result"
    }
   ],
   "source": [
    "N_seed"
   ]
  },
  {
   "cell_type": "code",
   "execution_count": 33,
   "metadata": {},
   "outputs": [
    {
     "name": "stdout",
     "output_type": "stream",
     "text": [
      "\n",
      "Intermediate failure threshold:  1.089590122580395\n"
     ]
    },
    {
     "ename": "IndexError",
     "evalue": "boolean index did not match indexed array along dimension 0; dimension is 1000 but corresponding boolean dimension is 2",
     "output_type": "error",
     "traceback": [
      "\u001b[1;31m---------------------------------------------------------------------------\u001b[0m",
      "\u001b[1;31mIndexError\u001b[0m                                Traceback (most recent call last)",
      "\u001b[1;32m<ipython-input-33-48e0f114ff9e>\u001b[0m in \u001b[0;36m<module>\u001b[1;34m\u001b[0m\n\u001b[0;32m     52\u001b[0m     \u001b[0mW\u001b[0m \u001b[1;33m=\u001b[0m \u001b[1;33m(\u001b[0m\u001b[0msp\u001b[0m\u001b[1;33m.\u001b[0m\u001b[0mstats\u001b[0m\u001b[1;33m.\u001b[0m\u001b[0mmultivariate_normal\u001b[0m\u001b[1;33m.\u001b[0m\u001b[0mpdf\u001b[0m\u001b[1;33m(\u001b[0m\u001b[0mX\u001b[0m\u001b[1;33m,\u001b[0m\u001b[0mmean\u001b[0m\u001b[1;33m=\u001b[0m\u001b[0mnp\u001b[0m\u001b[1;33m.\u001b[0m\u001b[0mzeros\u001b[0m\u001b[1;33m(\u001b[0m\u001b[1;33m(\u001b[0m\u001b[0mdim\u001b[0m\u001b[1;33m)\u001b[0m\u001b[1;33m)\u001b[0m\u001b[1;33m,\u001b[0m\u001b[0mcov\u001b[0m \u001b[1;33m=\u001b[0m \u001b[0mnp\u001b[0m\u001b[1;33m.\u001b[0m\u001b[0meye\u001b[0m\u001b[1;33m(\u001b[0m\u001b[0mdim\u001b[0m\u001b[1;33m)\u001b[0m\u001b[1;33m)\u001b[0m\u001b[1;33m/\u001b[0m\u001b[0mh\u001b[0m\u001b[1;33m)\u001b[0m\u001b[1;33m\u001b[0m\u001b[1;33m\u001b[0m\u001b[0m\n\u001b[0;32m     53\u001b[0m     \u001b[1;31m# Parameter update: Closed-form update\u001b[0m\u001b[1;33m\u001b[0m\u001b[1;33m\u001b[0m\u001b[1;33m\u001b[0m\u001b[0m\n\u001b[1;32m---> 54\u001b[1;33m     \u001b[0mprod\u001b[0m \u001b[1;33m=\u001b[0m \u001b[0mnp\u001b[0m\u001b[1;33m.\u001b[0m\u001b[0mmatmul\u001b[0m\u001b[1;33m(\u001b[0m\u001b[0mW\u001b[0m\u001b[1;33m[\u001b[0m\u001b[0mI\u001b[0m\u001b[1;33m]\u001b[0m\u001b[1;33m,\u001b[0m\u001b[0mX\u001b[0m\u001b[1;33m[\u001b[0m\u001b[0mI\u001b[0m\u001b[1;33m,\u001b[0m\u001b[1;33m:\u001b[0m\u001b[1;33m]\u001b[0m\u001b[1;33m)\u001b[0m\u001b[1;33m\u001b[0m\u001b[1;33m\u001b[0m\u001b[0m\n\u001b[0m",
      "\u001b[1;31mIndexError\u001b[0m: boolean index did not match indexed array along dimension 0; dimension is 1000 but corresponding boolean dimension is 2"
     ]
    }
   ],
   "source": [
    "## Importance sampling method (Choose the IS density through the cross entropy method)\n",
    "# IS density using the cross entropy method\n",
    "# number of samples per level\n",
    "N_CE = 1000\n",
    "# Quantile value to select samples for parameter update\n",
    "p = 0.3\n",
    "# limit state function in physical space\n",
    "g = lambda x: x[:,0]-x[:,1] # x has the size Nxdim\n",
    "# distribution Nataf object or marginal distribution of the input variables in physical space\n",
    "M = [ERADist(\"Lognormal\",\"MOM\",[mu_R, sigma_R]),ERADist(\"Gumbel\",\"MOM\",[mu_S,sigma_S])]\n",
    "Rho = np.identity(dim)\n",
    "# Apply the Nataf transformation\n",
    "T_Nataf = ERANataf(M,Rho)\n",
    "dim = len(T_Nataf.Marginals)\n",
    "u2x = lambda u: T_Nataf.U2X(u)\n",
    "# Limist state function in standard space\n",
    "G_LSF = lambda u: g(u2x(u))\n",
    "# Initialization of variables and storage\n",
    "j = 0 # initial level\n",
    "maxT = 50 # estimated number of iterations\n",
    "N_tot = 0 # total number of samples\n",
    "# Definition of parameters of the random variables (uncorrelated standard normal)\n",
    "mu_init = np.zeros(dim)\n",
    "Si_init = np.eye(dim)\n",
    "gamma_hat = np.zeros((maxT + 1))\n",
    "samplesU = list()\n",
    "# CE procedure\n",
    "# Initial parameters\n",
    "gamma_hat[j]=1\n",
    "mu_hat = mu_init\n",
    "Si_hat = Si_init\n",
    "# Iteration\n",
    "for j in range(maxT):\n",
    "    # Generate samples and save them\n",
    "    X = sp.stats.multivariate_normal.rvs(mean = mu_hat,cov = Si_hat, size=N_CE).reshape(-1,dim)\n",
    "    samplesU.append(X.T)\n",
    "    # Count generated samples\n",
    "    N_tot +=N_CE\n",
    "    # Evaluate the limit state funtion\n",
    "    geval = G_LSF(X.T)\n",
    "    # Calculating h for the likelihood funtion\n",
    "    h = sp.stats.multivariate_normal.pdf(X,mu_hat,Si_hat)\n",
    "    # Check convergence\n",
    "    if gamma_hat[j]==0:\n",
    "        break\n",
    "    # obtaining estimator gamma\n",
    "    gamma_hat[j+1]=np.maximum(0,np.nanpercentile(geval,p*100))\n",
    "    print(\"\\nIntermediate failure threshold: \",gamma_hat[j+1])\n",
    "    # Indicator function\n",
    "    I = geval <= gamma_hat[j+1]\n",
    "    # Likelihood ratio\n",
    "    W = (sp.stats.multivariate_normal.pdf(X,mean=np.zeros((dim)),cov = np.eye(dim))/h)\n",
    "    # Parameter update: Closed-form update\n",
    "    prod = np.matmul(W[I],X[I,:])"
   ]
  },
  {
   "cell_type": "code",
   "execution_count": 42,
   "metadata": {},
   "outputs": [
    {
     "data": {
      "text/plain": [
       "array([[[[1., 1., 1., 1.],\n",
       "         [1., 1., 1., 1.],\n",
       "         [1., 1., 1., 1.],\n",
       "         ...,\n",
       "         [1., 1., 1., 1.],\n",
       "         [1., 1., 1., 1.],\n",
       "         [1., 1., 1., 1.]],\n",
       "\n",
       "        [[1., 1., 1., 1.],\n",
       "         [1., 1., 1., 1.],\n",
       "         [1., 1., 1., 1.],\n",
       "         ...,\n",
       "         [1., 1., 1., 1.],\n",
       "         [1., 1., 1., 1.],\n",
       "         [1., 1., 1., 1.]],\n",
       "\n",
       "        [[1., 1., 1., 1.],\n",
       "         [1., 1., 1., 1.],\n",
       "         [1., 1., 1., 1.],\n",
       "         ...,\n",
       "         [1., 1., 1., 1.],\n",
       "         [1., 1., 1., 1.],\n",
       "         [1., 1., 1., 1.]],\n",
       "\n",
       "        [[1., 1., 1., 1.],\n",
       "         [1., 1., 1., 1.],\n",
       "         [1., 1., 1., 1.],\n",
       "         ...,\n",
       "         [1., 1., 1., 1.],\n",
       "         [1., 1., 1., 1.],\n",
       "         [1., 1., 1., 1.]],\n",
       "\n",
       "        [[1., 1., 1., 1.],\n",
       "         [1., 1., 1., 1.],\n",
       "         [1., 1., 1., 1.],\n",
       "         ...,\n",
       "         [1., 1., 1., 1.],\n",
       "         [1., 1., 1., 1.],\n",
       "         [1., 1., 1., 1.]]],\n",
       "\n",
       "\n",
       "       [[[1., 1., 1., 1.],\n",
       "         [1., 1., 1., 1.],\n",
       "         [1., 1., 1., 1.],\n",
       "         ...,\n",
       "         [1., 1., 1., 1.],\n",
       "         [1., 1., 1., 1.],\n",
       "         [1., 1., 1., 1.]],\n",
       "\n",
       "        [[1., 1., 1., 1.],\n",
       "         [1., 1., 1., 1.],\n",
       "         [1., 1., 1., 1.],\n",
       "         ...,\n",
       "         [1., 1., 1., 1.],\n",
       "         [1., 1., 1., 1.],\n",
       "         [1., 1., 1., 1.]],\n",
       "\n",
       "        [[1., 1., 1., 1.],\n",
       "         [1., 1., 1., 1.],\n",
       "         [1., 1., 1., 1.],\n",
       "         ...,\n",
       "         [1., 1., 1., 1.],\n",
       "         [1., 1., 1., 1.],\n",
       "         [1., 1., 1., 1.]],\n",
       "\n",
       "        [[1., 1., 1., 1.],\n",
       "         [1., 1., 1., 1.],\n",
       "         [1., 1., 1., 1.],\n",
       "         ...,\n",
       "         [1., 1., 1., 1.],\n",
       "         [1., 1., 1., 1.],\n",
       "         [1., 1., 1., 1.]],\n",
       "\n",
       "        [[1., 1., 1., 1.],\n",
       "         [1., 1., 1., 1.],\n",
       "         [1., 1., 1., 1.],\n",
       "         ...,\n",
       "         [1., 1., 1., 1.],\n",
       "         [1., 1., 1., 1.],\n",
       "         [1., 1., 1., 1.]]],\n",
       "\n",
       "\n",
       "       [[[1., 1., 1., 1.],\n",
       "         [1., 1., 1., 1.],\n",
       "         [1., 1., 1., 1.],\n",
       "         ...,\n",
       "         [1., 1., 1., 1.],\n",
       "         [1., 1., 1., 1.],\n",
       "         [1., 1., 1., 1.]],\n",
       "\n",
       "        [[1., 1., 1., 1.],\n",
       "         [1., 1., 1., 1.],\n",
       "         [1., 1., 1., 1.],\n",
       "         ...,\n",
       "         [1., 1., 1., 1.],\n",
       "         [1., 1., 1., 1.],\n",
       "         [1., 1., 1., 1.]],\n",
       "\n",
       "        [[1., 1., 1., 1.],\n",
       "         [1., 1., 1., 1.],\n",
       "         [1., 1., 1., 1.],\n",
       "         ...,\n",
       "         [1., 1., 1., 1.],\n",
       "         [1., 1., 1., 1.],\n",
       "         [1., 1., 1., 1.]],\n",
       "\n",
       "        [[1., 1., 1., 1.],\n",
       "         [1., 1., 1., 1.],\n",
       "         [1., 1., 1., 1.],\n",
       "         ...,\n",
       "         [1., 1., 1., 1.],\n",
       "         [1., 1., 1., 1.],\n",
       "         [1., 1., 1., 1.]],\n",
       "\n",
       "        [[1., 1., 1., 1.],\n",
       "         [1., 1., 1., 1.],\n",
       "         [1., 1., 1., 1.],\n",
       "         ...,\n",
       "         [1., 1., 1., 1.],\n",
       "         [1., 1., 1., 1.],\n",
       "         [1., 1., 1., 1.]]],\n",
       "\n",
       "\n",
       "       ...,\n",
       "\n",
       "\n",
       "       [[[1., 1., 1., 1.],\n",
       "         [1., 1., 1., 1.],\n",
       "         [1., 1., 1., 1.],\n",
       "         ...,\n",
       "         [1., 1., 1., 1.],\n",
       "         [1., 1., 1., 1.],\n",
       "         [1., 1., 1., 1.]],\n",
       "\n",
       "        [[1., 1., 1., 1.],\n",
       "         [1., 1., 1., 1.],\n",
       "         [1., 1., 1., 1.],\n",
       "         ...,\n",
       "         [1., 1., 1., 1.],\n",
       "         [1., 1., 1., 1.],\n",
       "         [1., 1., 1., 1.]],\n",
       "\n",
       "        [[1., 1., 1., 1.],\n",
       "         [1., 1., 1., 1.],\n",
       "         [1., 1., 1., 1.],\n",
       "         ...,\n",
       "         [1., 1., 1., 1.],\n",
       "         [1., 1., 1., 1.],\n",
       "         [1., 1., 1., 1.]],\n",
       "\n",
       "        [[1., 1., 1., 1.],\n",
       "         [1., 1., 1., 1.],\n",
       "         [1., 1., 1., 1.],\n",
       "         ...,\n",
       "         [1., 1., 1., 1.],\n",
       "         [1., 1., 1., 1.],\n",
       "         [1., 1., 1., 1.]],\n",
       "\n",
       "        [[1., 1., 1., 1.],\n",
       "         [1., 1., 1., 1.],\n",
       "         [1., 1., 1., 1.],\n",
       "         ...,\n",
       "         [1., 1., 1., 1.],\n",
       "         [1., 1., 1., 1.],\n",
       "         [1., 1., 1., 1.]]],\n",
       "\n",
       "\n",
       "       [[[1., 1., 1., 1.],\n",
       "         [1., 1., 1., 1.],\n",
       "         [1., 1., 1., 1.],\n",
       "         ...,\n",
       "         [1., 1., 1., 1.],\n",
       "         [1., 1., 1., 1.],\n",
       "         [1., 1., 1., 1.]],\n",
       "\n",
       "        [[1., 1., 1., 1.],\n",
       "         [1., 1., 1., 1.],\n",
       "         [1., 1., 1., 1.],\n",
       "         ...,\n",
       "         [1., 1., 1., 1.],\n",
       "         [1., 1., 1., 1.],\n",
       "         [1., 1., 1., 1.]],\n",
       "\n",
       "        [[1., 1., 1., 1.],\n",
       "         [1., 1., 1., 1.],\n",
       "         [1., 1., 1., 1.],\n",
       "         ...,\n",
       "         [1., 1., 1., 1.],\n",
       "         [1., 1., 1., 1.],\n",
       "         [1., 1., 1., 1.]],\n",
       "\n",
       "        [[1., 1., 1., 1.],\n",
       "         [1., 1., 1., 1.],\n",
       "         [1., 1., 1., 1.],\n",
       "         ...,\n",
       "         [1., 1., 1., 1.],\n",
       "         [1., 1., 1., 1.],\n",
       "         [1., 1., 1., 1.]],\n",
       "\n",
       "        [[1., 1., 1., 1.],\n",
       "         [1., 1., 1., 1.],\n",
       "         [1., 1., 1., 1.],\n",
       "         ...,\n",
       "         [1., 1., 1., 1.],\n",
       "         [1., 1., 1., 1.],\n",
       "         [1., 1., 1., 1.]]],\n",
       "\n",
       "\n",
       "       [[[1., 1., 1., 1.],\n",
       "         [1., 1., 1., 1.],\n",
       "         [1., 1., 1., 1.],\n",
       "         ...,\n",
       "         [1., 1., 1., 1.],\n",
       "         [1., 1., 1., 1.],\n",
       "         [1., 1., 1., 1.]],\n",
       "\n",
       "        [[1., 1., 1., 1.],\n",
       "         [1., 1., 1., 1.],\n",
       "         [1., 1., 1., 1.],\n",
       "         ...,\n",
       "         [1., 1., 1., 1.],\n",
       "         [1., 1., 1., 1.],\n",
       "         [1., 1., 1., 1.]],\n",
       "\n",
       "        [[1., 1., 1., 1.],\n",
       "         [1., 1., 1., 1.],\n",
       "         [1., 1., 1., 1.],\n",
       "         ...,\n",
       "         [1., 1., 1., 1.],\n",
       "         [1., 1., 1., 1.],\n",
       "         [1., 1., 1., 1.]],\n",
       "\n",
       "        [[1., 1., 1., 1.],\n",
       "         [1., 1., 1., 1.],\n",
       "         [1., 1., 1., 1.],\n",
       "         ...,\n",
       "         [1., 1., 1., 1.],\n",
       "         [1., 1., 1., 1.],\n",
       "         [1., 1., 1., 1.]],\n",
       "\n",
       "        [[1., 1., 1., 1.],\n",
       "         [1., 1., 1., 1.],\n",
       "         [1., 1., 1., 1.],\n",
       "         ...,\n",
       "         [1., 1., 1., 1.],\n",
       "         [1., 1., 1., 1.],\n",
       "         [1., 1., 1., 1.]]]])"
      ]
     },
     "execution_count": 42,
     "metadata": {},
     "output_type": "execute_result"
    }
   ],
   "source": [
    "a = np.ones([9,5,7,4])\n",
    "a"
   ]
  },
  {
   "cell_type": "code",
   "execution_count": 43,
   "metadata": {},
   "outputs": [
    {
     "data": {
      "text/plain": [
       "array([[[[1., 1., 1.],\n",
       "         [1., 1., 1.],\n",
       "         [1., 1., 1.],\n",
       "         [1., 1., 1.]],\n",
       "\n",
       "        [[1., 1., 1.],\n",
       "         [1., 1., 1.],\n",
       "         [1., 1., 1.],\n",
       "         [1., 1., 1.]],\n",
       "\n",
       "        [[1., 1., 1.],\n",
       "         [1., 1., 1.],\n",
       "         [1., 1., 1.],\n",
       "         [1., 1., 1.]],\n",
       "\n",
       "        [[1., 1., 1.],\n",
       "         [1., 1., 1.],\n",
       "         [1., 1., 1.],\n",
       "         [1., 1., 1.]],\n",
       "\n",
       "        [[1., 1., 1.],\n",
       "         [1., 1., 1.],\n",
       "         [1., 1., 1.],\n",
       "         [1., 1., 1.]]],\n",
       "\n",
       "\n",
       "       [[[1., 1., 1.],\n",
       "         [1., 1., 1.],\n",
       "         [1., 1., 1.],\n",
       "         [1., 1., 1.]],\n",
       "\n",
       "        [[1., 1., 1.],\n",
       "         [1., 1., 1.],\n",
       "         [1., 1., 1.],\n",
       "         [1., 1., 1.]],\n",
       "\n",
       "        [[1., 1., 1.],\n",
       "         [1., 1., 1.],\n",
       "         [1., 1., 1.],\n",
       "         [1., 1., 1.]],\n",
       "\n",
       "        [[1., 1., 1.],\n",
       "         [1., 1., 1.],\n",
       "         [1., 1., 1.],\n",
       "         [1., 1., 1.]],\n",
       "\n",
       "        [[1., 1., 1.],\n",
       "         [1., 1., 1.],\n",
       "         [1., 1., 1.],\n",
       "         [1., 1., 1.]]],\n",
       "\n",
       "\n",
       "       [[[1., 1., 1.],\n",
       "         [1., 1., 1.],\n",
       "         [1., 1., 1.],\n",
       "         [1., 1., 1.]],\n",
       "\n",
       "        [[1., 1., 1.],\n",
       "         [1., 1., 1.],\n",
       "         [1., 1., 1.],\n",
       "         [1., 1., 1.]],\n",
       "\n",
       "        [[1., 1., 1.],\n",
       "         [1., 1., 1.],\n",
       "         [1., 1., 1.],\n",
       "         [1., 1., 1.]],\n",
       "\n",
       "        [[1., 1., 1.],\n",
       "         [1., 1., 1.],\n",
       "         [1., 1., 1.],\n",
       "         [1., 1., 1.]],\n",
       "\n",
       "        [[1., 1., 1.],\n",
       "         [1., 1., 1.],\n",
       "         [1., 1., 1.],\n",
       "         [1., 1., 1.]]],\n",
       "\n",
       "\n",
       "       [[[1., 1., 1.],\n",
       "         [1., 1., 1.],\n",
       "         [1., 1., 1.],\n",
       "         [1., 1., 1.]],\n",
       "\n",
       "        [[1., 1., 1.],\n",
       "         [1., 1., 1.],\n",
       "         [1., 1., 1.],\n",
       "         [1., 1., 1.]],\n",
       "\n",
       "        [[1., 1., 1.],\n",
       "         [1., 1., 1.],\n",
       "         [1., 1., 1.],\n",
       "         [1., 1., 1.]],\n",
       "\n",
       "        [[1., 1., 1.],\n",
       "         [1., 1., 1.],\n",
       "         [1., 1., 1.],\n",
       "         [1., 1., 1.]],\n",
       "\n",
       "        [[1., 1., 1.],\n",
       "         [1., 1., 1.],\n",
       "         [1., 1., 1.],\n",
       "         [1., 1., 1.]]],\n",
       "\n",
       "\n",
       "       [[[1., 1., 1.],\n",
       "         [1., 1., 1.],\n",
       "         [1., 1., 1.],\n",
       "         [1., 1., 1.]],\n",
       "\n",
       "        [[1., 1., 1.],\n",
       "         [1., 1., 1.],\n",
       "         [1., 1., 1.],\n",
       "         [1., 1., 1.]],\n",
       "\n",
       "        [[1., 1., 1.],\n",
       "         [1., 1., 1.],\n",
       "         [1., 1., 1.],\n",
       "         [1., 1., 1.]],\n",
       "\n",
       "        [[1., 1., 1.],\n",
       "         [1., 1., 1.],\n",
       "         [1., 1., 1.],\n",
       "         [1., 1., 1.]],\n",
       "\n",
       "        [[1., 1., 1.],\n",
       "         [1., 1., 1.],\n",
       "         [1., 1., 1.],\n",
       "         [1., 1., 1.]]],\n",
       "\n",
       "\n",
       "       [[[1., 1., 1.],\n",
       "         [1., 1., 1.],\n",
       "         [1., 1., 1.],\n",
       "         [1., 1., 1.]],\n",
       "\n",
       "        [[1., 1., 1.],\n",
       "         [1., 1., 1.],\n",
       "         [1., 1., 1.],\n",
       "         [1., 1., 1.]],\n",
       "\n",
       "        [[1., 1., 1.],\n",
       "         [1., 1., 1.],\n",
       "         [1., 1., 1.],\n",
       "         [1., 1., 1.]],\n",
       "\n",
       "        [[1., 1., 1.],\n",
       "         [1., 1., 1.],\n",
       "         [1., 1., 1.],\n",
       "         [1., 1., 1.]],\n",
       "\n",
       "        [[1., 1., 1.],\n",
       "         [1., 1., 1.],\n",
       "         [1., 1., 1.],\n",
       "         [1., 1., 1.]]],\n",
       "\n",
       "\n",
       "       [[[1., 1., 1.],\n",
       "         [1., 1., 1.],\n",
       "         [1., 1., 1.],\n",
       "         [1., 1., 1.]],\n",
       "\n",
       "        [[1., 1., 1.],\n",
       "         [1., 1., 1.],\n",
       "         [1., 1., 1.],\n",
       "         [1., 1., 1.]],\n",
       "\n",
       "        [[1., 1., 1.],\n",
       "         [1., 1., 1.],\n",
       "         [1., 1., 1.],\n",
       "         [1., 1., 1.]],\n",
       "\n",
       "        [[1., 1., 1.],\n",
       "         [1., 1., 1.],\n",
       "         [1., 1., 1.],\n",
       "         [1., 1., 1.]],\n",
       "\n",
       "        [[1., 1., 1.],\n",
       "         [1., 1., 1.],\n",
       "         [1., 1., 1.],\n",
       "         [1., 1., 1.]]],\n",
       "\n",
       "\n",
       "       [[[1., 1., 1.],\n",
       "         [1., 1., 1.],\n",
       "         [1., 1., 1.],\n",
       "         [1., 1., 1.]],\n",
       "\n",
       "        [[1., 1., 1.],\n",
       "         [1., 1., 1.],\n",
       "         [1., 1., 1.],\n",
       "         [1., 1., 1.]],\n",
       "\n",
       "        [[1., 1., 1.],\n",
       "         [1., 1., 1.],\n",
       "         [1., 1., 1.],\n",
       "         [1., 1., 1.]],\n",
       "\n",
       "        [[1., 1., 1.],\n",
       "         [1., 1., 1.],\n",
       "         [1., 1., 1.],\n",
       "         [1., 1., 1.]],\n",
       "\n",
       "        [[1., 1., 1.],\n",
       "         [1., 1., 1.],\n",
       "         [1., 1., 1.],\n",
       "         [1., 1., 1.]]],\n",
       "\n",
       "\n",
       "       [[[1., 1., 1.],\n",
       "         [1., 1., 1.],\n",
       "         [1., 1., 1.],\n",
       "         [1., 1., 1.]],\n",
       "\n",
       "        [[1., 1., 1.],\n",
       "         [1., 1., 1.],\n",
       "         [1., 1., 1.],\n",
       "         [1., 1., 1.]],\n",
       "\n",
       "        [[1., 1., 1.],\n",
       "         [1., 1., 1.],\n",
       "         [1., 1., 1.],\n",
       "         [1., 1., 1.]],\n",
       "\n",
       "        [[1., 1., 1.],\n",
       "         [1., 1., 1.],\n",
       "         [1., 1., 1.],\n",
       "         [1., 1., 1.]],\n",
       "\n",
       "        [[1., 1., 1.],\n",
       "         [1., 1., 1.],\n",
       "         [1., 1., 1.],\n",
       "         [1., 1., 1.]]]])"
      ]
     },
     "execution_count": 43,
     "metadata": {},
     "output_type": "execute_result"
    }
   ],
   "source": [
    "c = np.ones([9,5,4,3])\n",
    "c"
   ]
  },
  {
   "cell_type": "code",
   "execution_count": 45,
   "metadata": {},
   "outputs": [
    {
     "data": {
      "text/plain": [
       "(9, 5, 7, 3)"
      ]
     },
     "execution_count": 45,
     "metadata": {},
     "output_type": "execute_result"
    }
   ],
   "source": [
    "np.matmul(a,c).shape"
   ]
  },
  {
   "cell_type": "code",
   "execution_count": 47,
   "metadata": {},
   "outputs": [
    {
     "data": {
      "text/plain": [
       "(9, 5, 7, 9, 5, 3)"
      ]
     },
     "execution_count": 47,
     "metadata": {},
     "output_type": "execute_result"
    }
   ],
   "source": [
    "np.dot(a,c).shape"
   ]
  },
  {
   "cell_type": "code",
   "execution_count": 35,
   "metadata": {},
   "outputs": [
    {
     "name": "stdout",
     "output_type": "stream",
     "text": [
      "\n",
      "Itermediate failure threshold:  3.9343197675235135\n"
     ]
    },
    {
     "ename": "IndexError",
     "evalue": "too many indices for array: array is 1-dimensional, but 2 were indexed",
     "output_type": "error",
     "traceback": [
      "\u001b[1;31m---------------------------------------------------------------------------\u001b[0m",
      "\u001b[1;31mIndexError\u001b[0m                                Traceback (most recent call last)",
      "\u001b[1;32m<ipython-input-35-9deeb389f590>\u001b[0m in \u001b[0;36m<module>\u001b[1;34m\u001b[0m\n\u001b[0;32m    116\u001b[0m \u001b[1;31m# Apply the Nataf transformation\u001b[0m\u001b[1;33m\u001b[0m\u001b[1;33m\u001b[0m\u001b[1;33m\u001b[0m\u001b[0m\n\u001b[0;32m    117\u001b[0m \u001b[0mT_Nataf\u001b[0m \u001b[1;33m=\u001b[0m \u001b[0mERANataf\u001b[0m\u001b[1;33m(\u001b[0m\u001b[0mM\u001b[0m\u001b[1;33m,\u001b[0m\u001b[0mRho\u001b[0m\u001b[1;33m)\u001b[0m\u001b[1;33m\u001b[0m\u001b[1;33m\u001b[0m\u001b[0m\n\u001b[1;32m--> 118\u001b[1;33m \u001b[1;33m[\u001b[0m\u001b[0mPr\u001b[0m\u001b[1;33m,\u001b[0m\u001b[0mlv\u001b[0m\u001b[1;33m,\u001b[0m\u001b[0mN_tot\u001b[0m\u001b[1;33m,\u001b[0m\u001b[0msamplesU\u001b[0m\u001b[1;33m,\u001b[0m\u001b[0msamplesX\u001b[0m\u001b[1;33m]\u001b[0m \u001b[1;33m=\u001b[0m \u001b[0mCEIS_SG\u001b[0m\u001b[1;33m(\u001b[0m\u001b[0mN_CE\u001b[0m\u001b[1;33m,\u001b[0m\u001b[0mN_final\u001b[0m\u001b[1;33m,\u001b[0m\u001b[0mp\u001b[0m\u001b[1;33m,\u001b[0m\u001b[0mg\u001b[0m\u001b[1;33m,\u001b[0m\u001b[0mT_Nataf\u001b[0m\u001b[1;33m)\u001b[0m\u001b[1;33m\u001b[0m\u001b[1;33m\u001b[0m\u001b[0m\n\u001b[0m\u001b[0;32m    119\u001b[0m \u001b[1;31m# show p_f results\u001b[0m\u001b[1;33m\u001b[0m\u001b[1;33m\u001b[0m\u001b[1;33m\u001b[0m\u001b[0m\n\u001b[0;32m    120\u001b[0m \u001b[0mprint\u001b[0m\u001b[1;33m(\u001b[0m\u001b[1;34m\"\\n***Reference Pf: \"\u001b[0m\u001b[1;33m,\u001b[0m\u001b[0mQ_exact\u001b[0m\u001b[1;33m,\u001b[0m\u001b[1;34m\" ***\"\u001b[0m\u001b[1;33m)\u001b[0m\u001b[1;33m\u001b[0m\u001b[1;33m\u001b[0m\u001b[0m\n",
      "\u001b[1;32m<ipython-input-35-9deeb389f590>\u001b[0m in \u001b[0;36mCEIS_SG\u001b[1;34m(N, N_final, p, g_fun, distr)\u001b[0m\n\u001b[0;32m     69\u001b[0m         \u001b[0mprint\u001b[0m\u001b[1;33m(\u001b[0m\u001b[1;34m\"\\nItermediate failure threshold: \"\u001b[0m\u001b[1;33m,\u001b[0m\u001b[0mgamma_hat\u001b[0m\u001b[1;33m[\u001b[0m\u001b[0mt\u001b[0m\u001b[1;33m+\u001b[0m\u001b[1;36m1\u001b[0m\u001b[1;33m]\u001b[0m\u001b[1;33m)\u001b[0m\u001b[1;33m\u001b[0m\u001b[1;33m\u001b[0m\u001b[0m\n\u001b[0;32m     70\u001b[0m         \u001b[1;31m# parameter update\u001b[0m\u001b[1;33m\u001b[0m\u001b[1;33m\u001b[0m\u001b[1;33m\u001b[0m\u001b[0m\n\u001b[1;32m---> 71\u001b[1;33m         \u001b[0mprod\u001b[0m  \u001b[1;33m=\u001b[0m \u001b[0mnp\u001b[0m\u001b[1;33m.\u001b[0m\u001b[0mmatmul\u001b[0m\u001b[1;33m(\u001b[0m\u001b[0mW\u001b[0m\u001b[1;33m[\u001b[0m\u001b[0mI\u001b[0m\u001b[1;33m]\u001b[0m\u001b[1;33m,\u001b[0m\u001b[0mU\u001b[0m\u001b[1;33m[\u001b[0m\u001b[0mI\u001b[0m\u001b[1;33m,\u001b[0m\u001b[1;33m:\u001b[0m\u001b[1;33m]\u001b[0m\u001b[1;33m)\u001b[0m\u001b[1;33m\u001b[0m\u001b[1;33m\u001b[0m\u001b[0m\n\u001b[0m\u001b[0;32m     72\u001b[0m         \u001b[0msumm\u001b[0m \u001b[1;33m=\u001b[0m \u001b[0mnp\u001b[0m\u001b[1;33m.\u001b[0m\u001b[0msum\u001b[0m\u001b[1;33m(\u001b[0m\u001b[0mW\u001b[0m\u001b[1;33m[\u001b[0m\u001b[0mI\u001b[0m\u001b[1;33m]\u001b[0m\u001b[1;33m)\u001b[0m\u001b[1;33m\u001b[0m\u001b[1;33m\u001b[0m\u001b[0m\n\u001b[0;32m     73\u001b[0m         \u001b[0mmu_U\u001b[0m \u001b[1;33m=\u001b[0m \u001b[0mprod\u001b[0m\u001b[1;33m/\u001b[0m\u001b[0msumm\u001b[0m\u001b[1;33m\u001b[0m\u001b[1;33m\u001b[0m\u001b[0m\n",
      "\u001b[1;31mIndexError\u001b[0m: too many indices for array: array is 1-dimensional, but 2 were indexed"
     ]
    }
   ],
   "source": [
    "'''\n",
    " CE-SG function\n",
    " ------------------------------\n",
    " # Inputs: \n",
    " ## N: number of samples per level\n",
    " ## N_final: number of samples for the last step\n",
    " ## p: quantile value to select samples for paremeter update\n",
    " ## g_fun: limit state funtion, assume the input samples has the size Nxdim\n",
    " ## distr: Nataf distribution object or marginal distribution object of the input variables\n",
    " -------------------------------\n",
    " # Outputs:\n",
    " ## Pr: Probability of failure\n",
    " ## T: total number of levels\n",
    " ## N_tot : total number of samples\n",
    " ## gamma_hat: intermediate levels\n",
    " ## samplesU: the samples in the standard normal space\n",
    " ## samplesX: the samples in the standard normal space\n",
    " ## kfin: final number of Gaussians in the mixture\n",
    "'''\n",
    "\n",
    "def CEIS_SG (N,N_final,p,g_fun,distr):\n",
    "    # iniital check if there exits a Nataf object\n",
    "    if isinstance(distr,ERANataf):# use Nataf transform (dependence)\n",
    "        dim = len(distr.Marginals) # number of random variables (dimensiton)\n",
    "        u2x = lambda u: distr.U2X(u) # from u to x\n",
    "    elif isinstance(distr[0],ERADist):# use distribution information for the transformation (independence)\n",
    "        # Here we assume that all the parameters have the same distribution!!!, if not adjust accordingly\n",
    "        dim = len(distr)# number of random variables (dimension)\n",
    "        u2x = lambda u: distr[0].icdf(sp.stats.norm.cdf(u))# from u to x\n",
    "    else:\n",
    "        raise RuntimeError(\"Incorrect distribution. Please create an ERADist/Nataf object!\")\n",
    "    # LSF in the standard space\n",
    "    G_LSF = lambda u: g_fun(u2x(u))\n",
    "    #Initialization of variables and storages\n",
    "    t = 0# initial level\n",
    "    maxT = 100 # estimated number of iterations\n",
    "    N_tot = 0 # total number of samples\n",
    "    # Definition of parameters of the random variables in the standard normal space (uncorrelated standard normal )\n",
    "    mu_init = np.zeros(dim)\n",
    "    Si_init = np.identity(dim)\n",
    "    gamma_hat = np.zeros(maxT+1)\n",
    "    samplesU = list()\n",
    "    # CE Procedure\n",
    "    # Initializing parameters\n",
    "    gamma_hat[t] = 1\n",
    "    mu_U = mu_init\n",
    "    Si_U =  Si_init\n",
    "    # Iterations\n",
    "    for t in range(maxT):\n",
    "        U = sp.stats.multivariate_normal.rvs(mean=mu_U,cov=Si_U,size=N).reshape(-1,dim)# U_samples has the size Nxdim\n",
    "        samplesU.append(U)\n",
    "        # count generated samples\n",
    "        N_tot +=N\n",
    "        # Caluculating h for the likelihood ratio\n",
    "        h = sp.stats.multivariate_normal.pdf(U,mu_U,Si_U)\n",
    "        # Likelihood ratio\n",
    "        f = sp.stats.multivariate_normal.pdf(U,mean=np.zeros(dim),cov = np.identity(dim))\n",
    "        W = f/h\n",
    "        # check convergence\n",
    "        if gamma_hat[t] == 0:\n",
    "            break\n",
    "\n",
    "        # Indicator funciton\n",
    "        # Evaluate the limit state function\n",
    "        geval = G_LSF(U.T)\n",
    "        I = geval<=gamma_hat[t+1]\n",
    "        # obtaining estimator gamma\n",
    "        gamma_hat[t+1] = np.maximum(0,np.nanpercentile(geval,p*100))\n",
    "        print(\"\\nItermediate failure threshold: \",gamma_hat[t+1])\n",
    "        # parameter update\n",
    "        prod  = np.matmul(W[I],U[I,:])\n",
    "        summ = np.sum(W[I])\n",
    "        mu_U = prod/summ\n",
    "        Utmp = U[I,:]-mu_U\n",
    "        Xo = (Utmp)*np.tile(np.sqrt(W[I]),(dim,1)).T\n",
    "        Si_U = np.matmul(Xo.T,Xo)/np.sum(W[I])+1e-6*np.identity(dim)\n",
    "    # total steps\n",
    "    T = t+1\n",
    "    #gamma_hat = gamma_hat [:,T+1]\n",
    "    # generate samples according to the obtained IS density\n",
    "    U_final = sp.stats.multivariate_normal.rvs(mean=mu_U,cov=Si_U,size=N_final).reshape(-1,dim)\n",
    "    # Caluculating h for the likelihood ratio\n",
    "    h_final = sp.stats.multivariate_normal.pdf(U_final,mu_U,Si_U)\n",
    "    # Likelihood ratio\n",
    "    f_final = sp.stats.multivariate_normal.pdf(U_final,mean=np.zeros(dim),cov = np.identity(dim))\n",
    "    # Calculate the probability of failure\n",
    "    W_final = f_final/h_final\n",
    "    g_final = G_LSF(U_final)\n",
    "    I_final = g_final <= 0\n",
    "    Pr = sum(I_final*W_final)/N_final\n",
    "    k_fin = 1\n",
    "    # transform to the physical space\n",
    "    samplesX = list()\n",
    "    for i in range(T):\n",
    "        samplesX.append(u2x(samplesU[i][:,:]))\n",
    "    return Pr, T, N_tot, samplesU, samplesX\n",
    "# Inputs: \n",
    " ## N: number of samples per level\n",
    "N_CE = 1000\n",
    " ## N_final: number of samples for the last step\n",
    "N_final = 1000\n",
    " ## p: quantile value to select samples for paremeter update\n",
    "p = 0.3\n",
    " ## g_fun: limit state funtion, assume the input samples has the size Nxdim\n",
    "g = lambda x: x[0,:]-x[1:,] # x has the size Nxdim\n",
    " ## distr: Nataf distribution object or marginal distribution object of the input variables\n",
    "## Parameter definition\n",
    "mu_R = 10; sigma_R= 1.5\n",
    "mu_S = 5; sigma_S = 2\n",
    "R_pdf = ERADist(\"Lognormal\",\"MOM\",[mu_R, sigma_R])\n",
    "S_pdf = ERADist(\"Gumbel\",\"MOM\",[mu_S,sigma_S])\n",
    "dim = 2\n",
    "# distribution Nataf object or marginal distribution of the input variables in physical space\n",
    "M = [R_pdf,S_pdf]\n",
    "Rho = np.identity(dim)\n",
    "# Apply the Nataf transformation\n",
    "T_Nataf = ERANataf(M,Rho)\n",
    "[Pr,lv,N_tot,samplesU,samplesX] = CEIS_SG(N_CE,N_final,p,g,T_Nataf)\n",
    "# show p_f results\n",
    "print(\"\\n***Reference Pf: \",Q_exact,\" ***\")\n",
    "print(\"***CE-based IS Pf: \",Pr,\" ***\\n\")\n",
    "# Plot samples\n",
    "if dim == 2:\n",
    "    nnp = 200\n",
    "    xx = np.linspace(-6,6,nnp)\n",
    "    [X,Y] = np.meshgrid(xx,xx)\n",
    "    xnod = np.array([X,Y])\n",
    "    Z = g(xnod)\n",
    "    fig, ax = plt.subplots(subplot_kw = {\"aspect\": \"equal\"})\n",
    "    ax.contour(X,Y,Z,[0],colors = 'r',linewidths = 3)#LSF\n",
    "    for sample in samplesU:\n",
    "        ax.plot(*sample,\".\",markersize = 2)\n",
    "    plt.show()"
   ]
  },
  {
   "cell_type": "code",
   "execution_count": null,
   "metadata": {},
   "outputs": [],
   "source": []
  },
  {
   "cell_type": "code",
   "execution_count": null,
   "metadata": {},
   "outputs": [],
   "source": []
  }
 ],
 "metadata": {
  "kernelspec": {
   "display_name": "Python 3",
   "language": "python",
   "name": "python3"
  },
  "language_info": {
   "codemirror_mode": {
    "name": "ipython",
    "version": 3
   },
   "file_extension": ".py",
   "mimetype": "text/x-python",
   "name": "python",
   "nbconvert_exporter": "python",
   "pygments_lexer": "ipython3",
   "version": "3.7.4"
  }
 },
 "nbformat": 4,
 "nbformat_minor": 2
}
